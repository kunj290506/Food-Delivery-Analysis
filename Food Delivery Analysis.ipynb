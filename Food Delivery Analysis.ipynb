{
  "nbformat": 4,
  "nbformat_minor": 0,
  "metadata": {
    "colab": {
      "provenance": []
    },
    "kernelspec": {
      "name": "python3",
      "display_name": "Python 3"
    },
    "language_info": {
      "name": "python"
    }
  },
  "cells": [
    {
      "cell_type": "markdown",
      "source": [
        "## Project 2: Food Delivery Analysis\n",
        "## Author: CHAUHAN KUNJ KIRAN\n",
        "## ID : D24AIML082\n",
        "\n",
        "##Customer Segmentation for Personalized Marketing in Food Delivery Services using Clustering and PCA\n",
        "\n",
        "### Problem Statement:\n",
        "In the competitive food delivery industry, businesses often struggle to understand and\n",
        "engage their diverse user base effectively. Users differ widely in terms of age, spending\n",
        "habits, order frequency, app usage, and preferences. Without segmenting these users into\n",
        "meaningful groups, companies miss opportunities to personalize marketing, improve user\n",
        "satisfaction, and increase retention.\n",
        "\n",
        "### Project Goal:\n",
        "The goal of this project is to segment users of a food delivery app into meaningful\n",
        "clusters based on their behavior and demographics using unsupervised learning techniques.\n",
        "By identifying distinct customer groups, the business can tailor marketing campaigns,\n",
        "improve service offerings, and optimize customer engagement strategies."
      ],
      "metadata": {
        "id": "SAGamxRKilfL"
      }
    },
    {
      "cell_type": "markdown",
      "source": [
        "Problem Statement:\n",
        "- In the competitive food delivery industry, businesses often struggle to understand and\n",
        "engage their diverse user base effectively. Users differ widely in terms of age, spending\n",
        "habits, order frequency, app usage, and preferences. Without segmenting these users into\n",
        "meaningful groups, companies miss opportunities to personalize marketing, improve user\n",
        "satisfaction, and increase retention.\n",
        "Project Goal:\n",
        "- The goal of this project is to segment users of a food delivery app into meaningful\n",
        "clusters based on their behavior and demographics using unsupervised learning techniques.\n",
        "By identifying distinct customer groups, the business can tailor marketing campaigns,\n",
        "improve service offerings, and optimize customer engagement strategies.\n",
        "__________________________\n",
        "Learning Objectives\n",
        "Data Understanding & Exploration\n",
        "1. Load and inspect food delivery user data to understand variable types (e.g., numeric\n",
        "vs. categorical), ranges, and distributions.\n",
        "\n",
        "2. Summarize and interpret key statistical properties (mean, median, standard\n",
        "deviation, skewness) of user behavior features like Age, Total Orders, Average\n",
        "Spend, etc.\n",
        "\n",
        "3. Visualize data distributions using histograms, box plots, and pair plots to explore\n",
        "potential groupings or outliers.\n",
        "\n",
        "4. Identify relationships between user variables (e.g., App Usage Time and Average\n",
        "Spend) through correlation matrices and scatter plots.\n",
        "Data Cleaning & Preprocessing\n",
        "\n",
        "\n",
        "5. Drop or encode irrelevant or categorical features (e.g., UserID, FavoriteCuisine) as\n",
        "appropriate for unsupervised learning models.\n",
        "\n",
        "6. Standardize numerical features using StandardScaler to ensure equal contribution to\n",
        "distance-based clustering.\n",
        "\n",
        "7. Evaluate the effect of scaling and dimensionality reduction on the data’s structure\n",
        "through pre- and post-processing visualizations.\n",
        "Dimensionality Reduction with PCA\n",
        "\n",
        "8. Apply Principal Component Analysis (PCA) to reduce high-dimensional data to 2D\n",
        "for effective visualization of user clusters.\n",
        "\n",
        "9. Interpret principal components by examining feature loadings to understand which\n",
        "user behaviors contribute most to variance.\n",
        "\n",
        "10. Visualize PCA-transformed data to observe potential natural clusters and separation\n",
        "of user types.\n",
        "Unsupervised Learning: Clustering\n",
        "\n",
        "11. Implement K-Means clustering on scaled user data and interpret resulting clusters in\n",
        "the context of user behavior.\n",
        "\n",
        "12. Determine the optimal number of clusters using the Elbow Method or Silhouette\n",
        "Score.\n",
        "\n",
        "13. Apply Agglomerative (Hierarchical) Clustering and visualize results using\n",
        "dendrograms to understand hierarchical relationships among users.\n",
        "\n",
        "14. Compare clustering results from K-Means and Hierarchical Clustering to identify\n",
        "consistency or divergence in groupings.\n",
        "Model Evaluation & Visualization\n",
        "\n",
        "15. Label PCA scatter plots with cluster assignments to visually interpret how users are\n",
        "grouped in reduced dimensions.\n",
        "\n",
        "16. Analyze cluster characteristics by computing average values of features within each\n",
        "cluster (e.g., high spenders, frequent users).\n",
        "\n",
        "17. Create a cluster profile summary to describe each segment using business-relevant\n",
        "insights (e.g., “young frequent users,” “older high spenders”).\n",
        "Critical Thinking & Real-world Framing\n",
        "\n",
        "18. Frame the clustering output as a customer segmentation strategy for personalized\n",
        "marketing or product recommendations.\n",
        "\n",
        "19. Explain how unsupervised learning helps businesses make data-driven decisions in\n",
        "the absence of labeled training data.\n",
        "\n",
        "20. Reflect on limitations of clustering models (e.g., sensitivity to scaling, shape of\n",
        "clusters) and suggest ways to improve (e.g., DBSCAN, inclusion of more behavioral\n",
        "data).\n",
        "_______________"
      ],
      "metadata": {
        "id": "PqVh9WhxiqKw"
      }
    },
    {
      "cell_type": "markdown",
      "source": [
        "### Importing Required Libraries\n",
        "\n",
        "We begin by importing essential Python libraries for data analysis and visualization:\n",
        "- `pandas` for data manipulation\n",
        "- `numpy` for numerical operations\n",
        "- `matplotlib.pyplot` and `seaborn` for visualizations"
      ],
      "metadata": {
        "id": "6N5aDO3YivX3"
      }
    },
    {
      "cell_type": "code",
      "source": [
        "import pandas as pd\n",
        "import numpy as np\n",
        "import matplotlib.pyplot as plt\n",
        "import seaborn as sns"
      ],
      "metadata": {
        "id": "taUrUAomip1H"
      },
      "execution_count": null,
      "outputs": []
    },
    {
      "cell_type": "markdown",
      "source": [
        "###LOAD THE DATASET"
      ],
      "metadata": {
        "id": "n1BzjC5Mi071"
      }
    },
    {
      "cell_type": "code",
      "source": [
        "df=pd.read_csv('/content/drive/MyDrive/SEM5_ML/food_delivery - food_delivery.csv')"
      ],
      "metadata": {
        "id": "B6g0uFD9ibbI"
      },
      "execution_count": null,
      "outputs": []
    },
    {
      "cell_type": "code",
      "source": [
        "df.head()"
      ],
      "metadata": {
        "colab": {
          "base_uri": "https://localhost:8080/",
          "height": 206
        },
        "id": "Fkp_CcXjij2u",
        "outputId": "30fb4518-66fd-4a8e-b5e4-e480f0ebc10a"
      },
      "execution_count": null,
      "outputs": [
        {
          "output_type": "execute_result",
          "data": {
            "text/plain": [
              "   UserID  Age  TotalOrders  AverageSpend FavoriteCuisine  DeliveryRating  \\\n",
              "0       1   56           37        312.70         Mexican             4.6   \n",
              "1       2   46           34        193.97         Mexican             3.0   \n",
              "2       3   32           22        291.66         Mexican             4.1   \n",
              "3       4   25           30        232.21            Thai             3.7   \n",
              "4       5   38           27        244.84         Italian             4.7   \n",
              "\n",
              "   AppUsageTimePerDay  \n",
              "0                20.9  \n",
              "1               150.2  \n",
              "2                59.7  \n",
              "3                85.5  \n",
              "4                13.7  "
            ],
            "text/html": [
              "\n",
              "  <div id=\"df-9c628b3e-c6a2-4636-80c3-874d01929fb5\" class=\"colab-df-container\">\n",
              "    <div>\n",
              "<style scoped>\n",
              "    .dataframe tbody tr th:only-of-type {\n",
              "        vertical-align: middle;\n",
              "    }\n",
              "\n",
              "    .dataframe tbody tr th {\n",
              "        vertical-align: top;\n",
              "    }\n",
              "\n",
              "    .dataframe thead th {\n",
              "        text-align: right;\n",
              "    }\n",
              "</style>\n",
              "<table border=\"1\" class=\"dataframe\">\n",
              "  <thead>\n",
              "    <tr style=\"text-align: right;\">\n",
              "      <th></th>\n",
              "      <th>UserID</th>\n",
              "      <th>Age</th>\n",
              "      <th>TotalOrders</th>\n",
              "      <th>AverageSpend</th>\n",
              "      <th>FavoriteCuisine</th>\n",
              "      <th>DeliveryRating</th>\n",
              "      <th>AppUsageTimePerDay</th>\n",
              "    </tr>\n",
              "  </thead>\n",
              "  <tbody>\n",
              "    <tr>\n",
              "      <th>0</th>\n",
              "      <td>1</td>\n",
              "      <td>56</td>\n",
              "      <td>37</td>\n",
              "      <td>312.70</td>\n",
              "      <td>Mexican</td>\n",
              "      <td>4.6</td>\n",
              "      <td>20.9</td>\n",
              "    </tr>\n",
              "    <tr>\n",
              "      <th>1</th>\n",
              "      <td>2</td>\n",
              "      <td>46</td>\n",
              "      <td>34</td>\n",
              "      <td>193.97</td>\n",
              "      <td>Mexican</td>\n",
              "      <td>3.0</td>\n",
              "      <td>150.2</td>\n",
              "    </tr>\n",
              "    <tr>\n",
              "      <th>2</th>\n",
              "      <td>3</td>\n",
              "      <td>32</td>\n",
              "      <td>22</td>\n",
              "      <td>291.66</td>\n",
              "      <td>Mexican</td>\n",
              "      <td>4.1</td>\n",
              "      <td>59.7</td>\n",
              "    </tr>\n",
              "    <tr>\n",
              "      <th>3</th>\n",
              "      <td>4</td>\n",
              "      <td>25</td>\n",
              "      <td>30</td>\n",
              "      <td>232.21</td>\n",
              "      <td>Thai</td>\n",
              "      <td>3.7</td>\n",
              "      <td>85.5</td>\n",
              "    </tr>\n",
              "    <tr>\n",
              "      <th>4</th>\n",
              "      <td>5</td>\n",
              "      <td>38</td>\n",
              "      <td>27</td>\n",
              "      <td>244.84</td>\n",
              "      <td>Italian</td>\n",
              "      <td>4.7</td>\n",
              "      <td>13.7</td>\n",
              "    </tr>\n",
              "  </tbody>\n",
              "</table>\n",
              "</div>\n",
              "    <div class=\"colab-df-buttons\">\n",
              "\n",
              "  <div class=\"colab-df-container\">\n",
              "    <button class=\"colab-df-convert\" onclick=\"convertToInteractive('df-9c628b3e-c6a2-4636-80c3-874d01929fb5')\"\n",
              "            title=\"Convert this dataframe to an interactive table.\"\n",
              "            style=\"display:none;\">\n",
              "\n",
              "  <svg xmlns=\"http://www.w3.org/2000/svg\" height=\"24px\" viewBox=\"0 -960 960 960\">\n",
              "    <path d=\"M120-120v-720h720v720H120Zm60-500h600v-160H180v160Zm220 220h160v-160H400v160Zm0 220h160v-160H400v160ZM180-400h160v-160H180v160Zm440 0h160v-160H620v160ZM180-180h160v-160H180v160Zm440 0h160v-160H620v160Z\"/>\n",
              "  </svg>\n",
              "    </button>\n",
              "\n",
              "  <style>\n",
              "    .colab-df-container {\n",
              "      display:flex;\n",
              "      gap: 12px;\n",
              "    }\n",
              "\n",
              "    .colab-df-convert {\n",
              "      background-color: #E8F0FE;\n",
              "      border: none;\n",
              "      border-radius: 50%;\n",
              "      cursor: pointer;\n",
              "      display: none;\n",
              "      fill: #1967D2;\n",
              "      height: 32px;\n",
              "      padding: 0 0 0 0;\n",
              "      width: 32px;\n",
              "    }\n",
              "\n",
              "    .colab-df-convert:hover {\n",
              "      background-color: #E2EBFA;\n",
              "      box-shadow: 0px 1px 2px rgba(60, 64, 67, 0.3), 0px 1px 3px 1px rgba(60, 64, 67, 0.15);\n",
              "      fill: #174EA6;\n",
              "    }\n",
              "\n",
              "    .colab-df-buttons div {\n",
              "      margin-bottom: 4px;\n",
              "    }\n",
              "\n",
              "    [theme=dark] .colab-df-convert {\n",
              "      background-color: #3B4455;\n",
              "      fill: #D2E3FC;\n",
              "    }\n",
              "\n",
              "    [theme=dark] .colab-df-convert:hover {\n",
              "      background-color: #434B5C;\n",
              "      box-shadow: 0px 1px 3px 1px rgba(0, 0, 0, 0.15);\n",
              "      filter: drop-shadow(0px 1px 2px rgba(0, 0, 0, 0.3));\n",
              "      fill: #FFFFFF;\n",
              "    }\n",
              "  </style>\n",
              "\n",
              "    <script>\n",
              "      const buttonEl =\n",
              "        document.querySelector('#df-9c628b3e-c6a2-4636-80c3-874d01929fb5 button.colab-df-convert');\n",
              "      buttonEl.style.display =\n",
              "        google.colab.kernel.accessAllowed ? 'block' : 'none';\n",
              "\n",
              "      async function convertToInteractive(key) {\n",
              "        const element = document.querySelector('#df-9c628b3e-c6a2-4636-80c3-874d01929fb5');\n",
              "        const dataTable =\n",
              "          await google.colab.kernel.invokeFunction('convertToInteractive',\n",
              "                                                    [key], {});\n",
              "        if (!dataTable) return;\n",
              "\n",
              "        const docLinkHtml = 'Like what you see? Visit the ' +\n",
              "          '<a target=\"_blank\" href=https://colab.research.google.com/notebooks/data_table.ipynb>data table notebook</a>'\n",
              "          + ' to learn more about interactive tables.';\n",
              "        element.innerHTML = '';\n",
              "        dataTable['output_type'] = 'display_data';\n",
              "        await google.colab.output.renderOutput(dataTable, element);\n",
              "        const docLink = document.createElement('div');\n",
              "        docLink.innerHTML = docLinkHtml;\n",
              "        element.appendChild(docLink);\n",
              "      }\n",
              "    </script>\n",
              "  </div>\n",
              "\n",
              "\n",
              "    <div id=\"df-f95a5bad-a78b-4f64-8139-934fd3e4aa4c\">\n",
              "      <button class=\"colab-df-quickchart\" onclick=\"quickchart('df-f95a5bad-a78b-4f64-8139-934fd3e4aa4c')\"\n",
              "                title=\"Suggest charts\"\n",
              "                style=\"display:none;\">\n",
              "\n",
              "<svg xmlns=\"http://www.w3.org/2000/svg\" height=\"24px\"viewBox=\"0 0 24 24\"\n",
              "     width=\"24px\">\n",
              "    <g>\n",
              "        <path d=\"M19 3H5c-1.1 0-2 .9-2 2v14c0 1.1.9 2 2 2h14c1.1 0 2-.9 2-2V5c0-1.1-.9-2-2-2zM9 17H7v-7h2v7zm4 0h-2V7h2v10zm4 0h-2v-4h2v4z\"/>\n",
              "    </g>\n",
              "</svg>\n",
              "      </button>\n",
              "\n",
              "<style>\n",
              "  .colab-df-quickchart {\n",
              "      --bg-color: #E8F0FE;\n",
              "      --fill-color: #1967D2;\n",
              "      --hover-bg-color: #E2EBFA;\n",
              "      --hover-fill-color: #174EA6;\n",
              "      --disabled-fill-color: #AAA;\n",
              "      --disabled-bg-color: #DDD;\n",
              "  }\n",
              "\n",
              "  [theme=dark] .colab-df-quickchart {\n",
              "      --bg-color: #3B4455;\n",
              "      --fill-color: #D2E3FC;\n",
              "      --hover-bg-color: #434B5C;\n",
              "      --hover-fill-color: #FFFFFF;\n",
              "      --disabled-bg-color: #3B4455;\n",
              "      --disabled-fill-color: #666;\n",
              "  }\n",
              "\n",
              "  .colab-df-quickchart {\n",
              "    background-color: var(--bg-color);\n",
              "    border: none;\n",
              "    border-radius: 50%;\n",
              "    cursor: pointer;\n",
              "    display: none;\n",
              "    fill: var(--fill-color);\n",
              "    height: 32px;\n",
              "    padding: 0;\n",
              "    width: 32px;\n",
              "  }\n",
              "\n",
              "  .colab-df-quickchart:hover {\n",
              "    background-color: var(--hover-bg-color);\n",
              "    box-shadow: 0 1px 2px rgba(60, 64, 67, 0.3), 0 1px 3px 1px rgba(60, 64, 67, 0.15);\n",
              "    fill: var(--button-hover-fill-color);\n",
              "  }\n",
              "\n",
              "  .colab-df-quickchart-complete:disabled,\n",
              "  .colab-df-quickchart-complete:disabled:hover {\n",
              "    background-color: var(--disabled-bg-color);\n",
              "    fill: var(--disabled-fill-color);\n",
              "    box-shadow: none;\n",
              "  }\n",
              "\n",
              "  .colab-df-spinner {\n",
              "    border: 2px solid var(--fill-color);\n",
              "    border-color: transparent;\n",
              "    border-bottom-color: var(--fill-color);\n",
              "    animation:\n",
              "      spin 1s steps(1) infinite;\n",
              "  }\n",
              "\n",
              "  @keyframes spin {\n",
              "    0% {\n",
              "      border-color: transparent;\n",
              "      border-bottom-color: var(--fill-color);\n",
              "      border-left-color: var(--fill-color);\n",
              "    }\n",
              "    20% {\n",
              "      border-color: transparent;\n",
              "      border-left-color: var(--fill-color);\n",
              "      border-top-color: var(--fill-color);\n",
              "    }\n",
              "    30% {\n",
              "      border-color: transparent;\n",
              "      border-left-color: var(--fill-color);\n",
              "      border-top-color: var(--fill-color);\n",
              "      border-right-color: var(--fill-color);\n",
              "    }\n",
              "    40% {\n",
              "      border-color: transparent;\n",
              "      border-right-color: var(--fill-color);\n",
              "      border-top-color: var(--fill-color);\n",
              "    }\n",
              "    60% {\n",
              "      border-color: transparent;\n",
              "      border-right-color: var(--fill-color);\n",
              "    }\n",
              "    80% {\n",
              "      border-color: transparent;\n",
              "      border-right-color: var(--fill-color);\n",
              "      border-bottom-color: var(--fill-color);\n",
              "    }\n",
              "    90% {\n",
              "      border-color: transparent;\n",
              "      border-bottom-color: var(--fill-color);\n",
              "    }\n",
              "  }\n",
              "</style>\n",
              "\n",
              "      <script>\n",
              "        async function quickchart(key) {\n",
              "          const quickchartButtonEl =\n",
              "            document.querySelector('#' + key + ' button');\n",
              "          quickchartButtonEl.disabled = true;  // To prevent multiple clicks.\n",
              "          quickchartButtonEl.classList.add('colab-df-spinner');\n",
              "          try {\n",
              "            const charts = await google.colab.kernel.invokeFunction(\n",
              "                'suggestCharts', [key], {});\n",
              "          } catch (error) {\n",
              "            console.error('Error during call to suggestCharts:', error);\n",
              "          }\n",
              "          quickchartButtonEl.classList.remove('colab-df-spinner');\n",
              "          quickchartButtonEl.classList.add('colab-df-quickchart-complete');\n",
              "        }\n",
              "        (() => {\n",
              "          let quickchartButtonEl =\n",
              "            document.querySelector('#df-f95a5bad-a78b-4f64-8139-934fd3e4aa4c button');\n",
              "          quickchartButtonEl.style.display =\n",
              "            google.colab.kernel.accessAllowed ? 'block' : 'none';\n",
              "        })();\n",
              "      </script>\n",
              "    </div>\n",
              "\n",
              "    </div>\n",
              "  </div>\n"
            ],
            "application/vnd.google.colaboratory.intrinsic+json": {
              "type": "dataframe",
              "variable_name": "df",
              "summary": "{\n  \"name\": \"df\",\n  \"rows\": 500,\n  \"fields\": [\n    {\n      \"column\": \"UserID\",\n      \"properties\": {\n        \"dtype\": \"number\",\n        \"std\": 144,\n        \"min\": 1,\n        \"max\": 500,\n        \"num_unique_values\": 500,\n        \"samples\": [\n          362,\n          74,\n          375\n        ],\n        \"semantic_type\": \"\",\n        \"description\": \"\"\n      }\n    },\n    {\n      \"column\": \"Age\",\n      \"properties\": {\n        \"dtype\": \"number\",\n        \"std\": 12,\n        \"min\": 18,\n        \"max\": 59,\n        \"num_unique_values\": 42,\n        \"samples\": [\n          26,\n          19,\n          41\n        ],\n        \"semantic_type\": \"\",\n        \"description\": \"\"\n      }\n    },\n    {\n      \"column\": \"TotalOrders\",\n      \"properties\": {\n        \"dtype\": \"number\",\n        \"std\": 5,\n        \"min\": 14,\n        \"max\": 47,\n        \"num_unique_values\": 32,\n        \"samples\": [\n          46,\n          23,\n          24\n        ],\n        \"semantic_type\": \"\",\n        \"description\": \"\"\n      }\n    },\n    {\n      \"column\": \"AverageSpend\",\n      \"properties\": {\n        \"dtype\": \"number\",\n        \"std\": 74.7324066607534,\n        \"min\": 80.9,\n        \"max\": 539.48,\n        \"num_unique_values\": 493,\n        \"samples\": [\n          355.41,\n          277.31,\n          178.87\n        ],\n        \"semantic_type\": \"\",\n        \"description\": \"\"\n      }\n    },\n    {\n      \"column\": \"FavoriteCuisine\",\n      \"properties\": {\n        \"dtype\": \"category\",\n        \"num_unique_values\": 5,\n        \"samples\": [\n          \"Thai\",\n          \"Indian\",\n          \"Italian\"\n        ],\n        \"semantic_type\": \"\",\n        \"description\": \"\"\n      }\n    },\n    {\n      \"column\": \"DeliveryRating\",\n      \"properties\": {\n        \"dtype\": \"number\",\n        \"std\": 0.7317941550536878,\n        \"min\": 2.5,\n        \"max\": 5.0,\n        \"num_unique_values\": 26,\n        \"samples\": [\n          2.8,\n          4.9,\n          4.6\n        ],\n        \"semantic_type\": \"\",\n        \"description\": \"\"\n      }\n    },\n    {\n      \"column\": \"AppUsageTimePerDay\",\n      \"properties\": {\n        \"dtype\": \"number\",\n        \"std\": 48.4724782235266,\n        \"min\": 10.1,\n        \"max\": 179.9,\n        \"num_unique_values\": 434,\n        \"samples\": [\n          56.8,\n          114.8,\n          101.1\n        ],\n        \"semantic_type\": \"\",\n        \"description\": \"\"\n      }\n    }\n  ]\n}"
            }
          },
          "metadata": {},
          "execution_count": 28
        }
      ]
    },
    {
      "cell_type": "markdown",
      "source": [
        "In this dataset, the only non-numerical feature is FavoriteCuisine."
      ],
      "metadata": {
        "id": "dBh7ZT7hjab3"
      }
    },
    {
      "cell_type": "markdown",
      "source": [
        "###Data Summary\n",
        "We apply .info() to examine column data types and identify missing values, and use .describe() to generate statistical overviews, including mean, standard deviation, minimum, and maximum for numeric columns"
      ],
      "metadata": {
        "id": "HMaLAjfkjiis"
      }
    },
    {
      "cell_type": "code",
      "source": [
        "df.info()"
      ],
      "metadata": {
        "colab": {
          "base_uri": "https://localhost:8080/"
        },
        "id": "DAP64346jDpM",
        "outputId": "41937375-398f-4d46-e0be-a262409a0619"
      },
      "execution_count": null,
      "outputs": [
        {
          "output_type": "stream",
          "name": "stdout",
          "text": [
            "<class 'pandas.core.frame.DataFrame'>\n",
            "RangeIndex: 500 entries, 0 to 499\n",
            "Data columns (total 7 columns):\n",
            " #   Column              Non-Null Count  Dtype  \n",
            "---  ------              --------------  -----  \n",
            " 0   UserID              500 non-null    int64  \n",
            " 1   Age                 500 non-null    int64  \n",
            " 2   TotalOrders         500 non-null    int64  \n",
            " 3   AverageSpend        500 non-null    float64\n",
            " 4   FavoriteCuisine     500 non-null    object \n",
            " 5   DeliveryRating      500 non-null    float64\n",
            " 6   AppUsageTimePerDay  500 non-null    float64\n",
            "dtypes: float64(3), int64(3), object(1)\n",
            "memory usage: 27.5+ KB\n"
          ]
        }
      ]
    },
    {
      "cell_type": "code",
      "source": [
        "df.describe(include='all')"
      ],
      "metadata": {
        "colab": {
          "base_uri": "https://localhost:8080/",
          "height": 394
        },
        "id": "7FN5RS5XjgKj",
        "outputId": "5f6ca7b2-4caf-4f7d-b493-21daf0345d54"
      },
      "execution_count": null,
      "outputs": [
        {
          "output_type": "execute_result",
          "data": {
            "text/plain": [
              "            UserID         Age  TotalOrders  AverageSpend FavoriteCuisine  \\\n",
              "count   500.000000  500.000000   500.000000    500.000000             500   \n",
              "unique         NaN         NaN          NaN           NaN               5   \n",
              "top            NaN         NaN          NaN           NaN            Thai   \n",
              "freq           NaN         NaN          NaN           NaN             108   \n",
              "mean    250.500000   39.326000    29.714000    306.584680             NaN   \n",
              "std     144.481833   12.200386     5.747196     74.732407             NaN   \n",
              "min       1.000000   18.000000    14.000000     80.900000             NaN   \n",
              "25%     125.750000   29.000000    25.000000    256.685000             NaN   \n",
              "50%     250.500000   41.000000    30.000000    305.170000             NaN   \n",
              "75%     375.250000   50.000000    33.000000    355.870000             NaN   \n",
              "max     500.000000   59.000000    47.000000    539.480000             NaN   \n",
              "\n",
              "        DeliveryRating  AppUsageTimePerDay  \n",
              "count       500.000000          500.000000  \n",
              "unique             NaN                 NaN  \n",
              "top                NaN                 NaN  \n",
              "freq               NaN                 NaN  \n",
              "mean          3.759400           93.515400  \n",
              "std           0.731794           48.472478  \n",
              "min           2.500000           10.100000  \n",
              "25%           3.100000           49.325000  \n",
              "50%           3.800000           93.100000  \n",
              "75%           4.400000          137.275000  \n",
              "max           5.000000          179.900000  "
            ],
            "text/html": [
              "\n",
              "  <div id=\"df-db827288-1dce-46a0-9392-15d601f4bbe9\" class=\"colab-df-container\">\n",
              "    <div>\n",
              "<style scoped>\n",
              "    .dataframe tbody tr th:only-of-type {\n",
              "        vertical-align: middle;\n",
              "    }\n",
              "\n",
              "    .dataframe tbody tr th {\n",
              "        vertical-align: top;\n",
              "    }\n",
              "\n",
              "    .dataframe thead th {\n",
              "        text-align: right;\n",
              "    }\n",
              "</style>\n",
              "<table border=\"1\" class=\"dataframe\">\n",
              "  <thead>\n",
              "    <tr style=\"text-align: right;\">\n",
              "      <th></th>\n",
              "      <th>UserID</th>\n",
              "      <th>Age</th>\n",
              "      <th>TotalOrders</th>\n",
              "      <th>AverageSpend</th>\n",
              "      <th>FavoriteCuisine</th>\n",
              "      <th>DeliveryRating</th>\n",
              "      <th>AppUsageTimePerDay</th>\n",
              "    </tr>\n",
              "  </thead>\n",
              "  <tbody>\n",
              "    <tr>\n",
              "      <th>count</th>\n",
              "      <td>500.000000</td>\n",
              "      <td>500.000000</td>\n",
              "      <td>500.000000</td>\n",
              "      <td>500.000000</td>\n",
              "      <td>500</td>\n",
              "      <td>500.000000</td>\n",
              "      <td>500.000000</td>\n",
              "    </tr>\n",
              "    <tr>\n",
              "      <th>unique</th>\n",
              "      <td>NaN</td>\n",
              "      <td>NaN</td>\n",
              "      <td>NaN</td>\n",
              "      <td>NaN</td>\n",
              "      <td>5</td>\n",
              "      <td>NaN</td>\n",
              "      <td>NaN</td>\n",
              "    </tr>\n",
              "    <tr>\n",
              "      <th>top</th>\n",
              "      <td>NaN</td>\n",
              "      <td>NaN</td>\n",
              "      <td>NaN</td>\n",
              "      <td>NaN</td>\n",
              "      <td>Thai</td>\n",
              "      <td>NaN</td>\n",
              "      <td>NaN</td>\n",
              "    </tr>\n",
              "    <tr>\n",
              "      <th>freq</th>\n",
              "      <td>NaN</td>\n",
              "      <td>NaN</td>\n",
              "      <td>NaN</td>\n",
              "      <td>NaN</td>\n",
              "      <td>108</td>\n",
              "      <td>NaN</td>\n",
              "      <td>NaN</td>\n",
              "    </tr>\n",
              "    <tr>\n",
              "      <th>mean</th>\n",
              "      <td>250.500000</td>\n",
              "      <td>39.326000</td>\n",
              "      <td>29.714000</td>\n",
              "      <td>306.584680</td>\n",
              "      <td>NaN</td>\n",
              "      <td>3.759400</td>\n",
              "      <td>93.515400</td>\n",
              "    </tr>\n",
              "    <tr>\n",
              "      <th>std</th>\n",
              "      <td>144.481833</td>\n",
              "      <td>12.200386</td>\n",
              "      <td>5.747196</td>\n",
              "      <td>74.732407</td>\n",
              "      <td>NaN</td>\n",
              "      <td>0.731794</td>\n",
              "      <td>48.472478</td>\n",
              "    </tr>\n",
              "    <tr>\n",
              "      <th>min</th>\n",
              "      <td>1.000000</td>\n",
              "      <td>18.000000</td>\n",
              "      <td>14.000000</td>\n",
              "      <td>80.900000</td>\n",
              "      <td>NaN</td>\n",
              "      <td>2.500000</td>\n",
              "      <td>10.100000</td>\n",
              "    </tr>\n",
              "    <tr>\n",
              "      <th>25%</th>\n",
              "      <td>125.750000</td>\n",
              "      <td>29.000000</td>\n",
              "      <td>25.000000</td>\n",
              "      <td>256.685000</td>\n",
              "      <td>NaN</td>\n",
              "      <td>3.100000</td>\n",
              "      <td>49.325000</td>\n",
              "    </tr>\n",
              "    <tr>\n",
              "      <th>50%</th>\n",
              "      <td>250.500000</td>\n",
              "      <td>41.000000</td>\n",
              "      <td>30.000000</td>\n",
              "      <td>305.170000</td>\n",
              "      <td>NaN</td>\n",
              "      <td>3.800000</td>\n",
              "      <td>93.100000</td>\n",
              "    </tr>\n",
              "    <tr>\n",
              "      <th>75%</th>\n",
              "      <td>375.250000</td>\n",
              "      <td>50.000000</td>\n",
              "      <td>33.000000</td>\n",
              "      <td>355.870000</td>\n",
              "      <td>NaN</td>\n",
              "      <td>4.400000</td>\n",
              "      <td>137.275000</td>\n",
              "    </tr>\n",
              "    <tr>\n",
              "      <th>max</th>\n",
              "      <td>500.000000</td>\n",
              "      <td>59.000000</td>\n",
              "      <td>47.000000</td>\n",
              "      <td>539.480000</td>\n",
              "      <td>NaN</td>\n",
              "      <td>5.000000</td>\n",
              "      <td>179.900000</td>\n",
              "    </tr>\n",
              "  </tbody>\n",
              "</table>\n",
              "</div>\n",
              "    <div class=\"colab-df-buttons\">\n",
              "\n",
              "  <div class=\"colab-df-container\">\n",
              "    <button class=\"colab-df-convert\" onclick=\"convertToInteractive('df-db827288-1dce-46a0-9392-15d601f4bbe9')\"\n",
              "            title=\"Convert this dataframe to an interactive table.\"\n",
              "            style=\"display:none;\">\n",
              "\n",
              "  <svg xmlns=\"http://www.w3.org/2000/svg\" height=\"24px\" viewBox=\"0 -960 960 960\">\n",
              "    <path d=\"M120-120v-720h720v720H120Zm60-500h600v-160H180v160Zm220 220h160v-160H400v160Zm0 220h160v-160H400v160ZM180-400h160v-160H180v160Zm440 0h160v-160H620v160ZM180-180h160v-160H180v160Zm440 0h160v-160H620v160Z\"/>\n",
              "  </svg>\n",
              "    </button>\n",
              "\n",
              "  <style>\n",
              "    .colab-df-container {\n",
              "      display:flex;\n",
              "      gap: 12px;\n",
              "    }\n",
              "\n",
              "    .colab-df-convert {\n",
              "      background-color: #E8F0FE;\n",
              "      border: none;\n",
              "      border-radius: 50%;\n",
              "      cursor: pointer;\n",
              "      display: none;\n",
              "      fill: #1967D2;\n",
              "      height: 32px;\n",
              "      padding: 0 0 0 0;\n",
              "      width: 32px;\n",
              "    }\n",
              "\n",
              "    .colab-df-convert:hover {\n",
              "      background-color: #E2EBFA;\n",
              "      box-shadow: 0px 1px 2px rgba(60, 64, 67, 0.3), 0px 1px 3px 1px rgba(60, 64, 67, 0.15);\n",
              "      fill: #174EA6;\n",
              "    }\n",
              "\n",
              "    .colab-df-buttons div {\n",
              "      margin-bottom: 4px;\n",
              "    }\n",
              "\n",
              "    [theme=dark] .colab-df-convert {\n",
              "      background-color: #3B4455;\n",
              "      fill: #D2E3FC;\n",
              "    }\n",
              "\n",
              "    [theme=dark] .colab-df-convert:hover {\n",
              "      background-color: #434B5C;\n",
              "      box-shadow: 0px 1px 3px 1px rgba(0, 0, 0, 0.15);\n",
              "      filter: drop-shadow(0px 1px 2px rgba(0, 0, 0, 0.3));\n",
              "      fill: #FFFFFF;\n",
              "    }\n",
              "  </style>\n",
              "\n",
              "    <script>\n",
              "      const buttonEl =\n",
              "        document.querySelector('#df-db827288-1dce-46a0-9392-15d601f4bbe9 button.colab-df-convert');\n",
              "      buttonEl.style.display =\n",
              "        google.colab.kernel.accessAllowed ? 'block' : 'none';\n",
              "\n",
              "      async function convertToInteractive(key) {\n",
              "        const element = document.querySelector('#df-db827288-1dce-46a0-9392-15d601f4bbe9');\n",
              "        const dataTable =\n",
              "          await google.colab.kernel.invokeFunction('convertToInteractive',\n",
              "                                                    [key], {});\n",
              "        if (!dataTable) return;\n",
              "\n",
              "        const docLinkHtml = 'Like what you see? Visit the ' +\n",
              "          '<a target=\"_blank\" href=https://colab.research.google.com/notebooks/data_table.ipynb>data table notebook</a>'\n",
              "          + ' to learn more about interactive tables.';\n",
              "        element.innerHTML = '';\n",
              "        dataTable['output_type'] = 'display_data';\n",
              "        await google.colab.output.renderOutput(dataTable, element);\n",
              "        const docLink = document.createElement('div');\n",
              "        docLink.innerHTML = docLinkHtml;\n",
              "        element.appendChild(docLink);\n",
              "      }\n",
              "    </script>\n",
              "  </div>\n",
              "\n",
              "\n",
              "    <div id=\"df-aaf3fa0b-9fa3-40c6-9db0-b6ccb5987cce\">\n",
              "      <button class=\"colab-df-quickchart\" onclick=\"quickchart('df-aaf3fa0b-9fa3-40c6-9db0-b6ccb5987cce')\"\n",
              "                title=\"Suggest charts\"\n",
              "                style=\"display:none;\">\n",
              "\n",
              "<svg xmlns=\"http://www.w3.org/2000/svg\" height=\"24px\"viewBox=\"0 0 24 24\"\n",
              "     width=\"24px\">\n",
              "    <g>\n",
              "        <path d=\"M19 3H5c-1.1 0-2 .9-2 2v14c0 1.1.9 2 2 2h14c1.1 0 2-.9 2-2V5c0-1.1-.9-2-2-2zM9 17H7v-7h2v7zm4 0h-2V7h2v10zm4 0h-2v-4h2v4z\"/>\n",
              "    </g>\n",
              "</svg>\n",
              "      </button>\n",
              "\n",
              "<style>\n",
              "  .colab-df-quickchart {\n",
              "      --bg-color: #E8F0FE;\n",
              "      --fill-color: #1967D2;\n",
              "      --hover-bg-color: #E2EBFA;\n",
              "      --hover-fill-color: #174EA6;\n",
              "      --disabled-fill-color: #AAA;\n",
              "      --disabled-bg-color: #DDD;\n",
              "  }\n",
              "\n",
              "  [theme=dark] .colab-df-quickchart {\n",
              "      --bg-color: #3B4455;\n",
              "      --fill-color: #D2E3FC;\n",
              "      --hover-bg-color: #434B5C;\n",
              "      --hover-fill-color: #FFFFFF;\n",
              "      --disabled-bg-color: #3B4455;\n",
              "      --disabled-fill-color: #666;\n",
              "  }\n",
              "\n",
              "  .colab-df-quickchart {\n",
              "    background-color: var(--bg-color);\n",
              "    border: none;\n",
              "    border-radius: 50%;\n",
              "    cursor: pointer;\n",
              "    display: none;\n",
              "    fill: var(--fill-color);\n",
              "    height: 32px;\n",
              "    padding: 0;\n",
              "    width: 32px;\n",
              "  }\n",
              "\n",
              "  .colab-df-quickchart:hover {\n",
              "    background-color: var(--hover-bg-color);\n",
              "    box-shadow: 0 1px 2px rgba(60, 64, 67, 0.3), 0 1px 3px 1px rgba(60, 64, 67, 0.15);\n",
              "    fill: var(--button-hover-fill-color);\n",
              "  }\n",
              "\n",
              "  .colab-df-quickchart-complete:disabled,\n",
              "  .colab-df-quickchart-complete:disabled:hover {\n",
              "    background-color: var(--disabled-bg-color);\n",
              "    fill: var(--disabled-fill-color);\n",
              "    box-shadow: none;\n",
              "  }\n",
              "\n",
              "  .colab-df-spinner {\n",
              "    border: 2px solid var(--fill-color);\n",
              "    border-color: transparent;\n",
              "    border-bottom-color: var(--fill-color);\n",
              "    animation:\n",
              "      spin 1s steps(1) infinite;\n",
              "  }\n",
              "\n",
              "  @keyframes spin {\n",
              "    0% {\n",
              "      border-color: transparent;\n",
              "      border-bottom-color: var(--fill-color);\n",
              "      border-left-color: var(--fill-color);\n",
              "    }\n",
              "    20% {\n",
              "      border-color: transparent;\n",
              "      border-left-color: var(--fill-color);\n",
              "      border-top-color: var(--fill-color);\n",
              "    }\n",
              "    30% {\n",
              "      border-color: transparent;\n",
              "      border-left-color: var(--fill-color);\n",
              "      border-top-color: var(--fill-color);\n",
              "      border-right-color: var(--fill-color);\n",
              "    }\n",
              "    40% {\n",
              "      border-color: transparent;\n",
              "      border-right-color: var(--fill-color);\n",
              "      border-top-color: var(--fill-color);\n",
              "    }\n",
              "    60% {\n",
              "      border-color: transparent;\n",
              "      border-right-color: var(--fill-color);\n",
              "    }\n",
              "    80% {\n",
              "      border-color: transparent;\n",
              "      border-right-color: var(--fill-color);\n",
              "      border-bottom-color: var(--fill-color);\n",
              "    }\n",
              "    90% {\n",
              "      border-color: transparent;\n",
              "      border-bottom-color: var(--fill-color);\n",
              "    }\n",
              "  }\n",
              "</style>\n",
              "\n",
              "      <script>\n",
              "        async function quickchart(key) {\n",
              "          const quickchartButtonEl =\n",
              "            document.querySelector('#' + key + ' button');\n",
              "          quickchartButtonEl.disabled = true;  // To prevent multiple clicks.\n",
              "          quickchartButtonEl.classList.add('colab-df-spinner');\n",
              "          try {\n",
              "            const charts = await google.colab.kernel.invokeFunction(\n",
              "                'suggestCharts', [key], {});\n",
              "          } catch (error) {\n",
              "            console.error('Error during call to suggestCharts:', error);\n",
              "          }\n",
              "          quickchartButtonEl.classList.remove('colab-df-spinner');\n",
              "          quickchartButtonEl.classList.add('colab-df-quickchart-complete');\n",
              "        }\n",
              "        (() => {\n",
              "          let quickchartButtonEl =\n",
              "            document.querySelector('#df-aaf3fa0b-9fa3-40c6-9db0-b6ccb5987cce button');\n",
              "          quickchartButtonEl.style.display =\n",
              "            google.colab.kernel.accessAllowed ? 'block' : 'none';\n",
              "        })();\n",
              "      </script>\n",
              "    </div>\n",
              "\n",
              "    </div>\n",
              "  </div>\n"
            ],
            "application/vnd.google.colaboratory.intrinsic+json": {
              "type": "dataframe",
              "summary": "{\n  \"name\": \"df\",\n  \"rows\": 11,\n  \"fields\": [\n    {\n      \"column\": \"UserID\",\n      \"properties\": {\n        \"dtype\": \"number\",\n        \"std\": 179.8977277873755,\n        \"min\": 1.0,\n        \"max\": 500.0,\n        \"num_unique_values\": 6,\n        \"samples\": [\n          500.0,\n          250.5,\n          375.25\n        ],\n        \"semantic_type\": \"\",\n        \"description\": \"\"\n      }\n    },\n    {\n      \"column\": \"Age\",\n      \"properties\": {\n        \"dtype\": \"number\",\n        \"std\": 164.96143049150106,\n        \"min\": 12.200386176088495,\n        \"max\": 500.0,\n        \"num_unique_values\": 8,\n        \"samples\": [\n          39.326,\n          41.0,\n          500.0\n        ],\n        \"semantic_type\": \"\",\n        \"description\": \"\"\n      }\n    },\n    {\n      \"column\": \"TotalOrders\",\n      \"properties\": {\n        \"dtype\": \"number\",\n        \"std\": 167.91752266136592,\n        \"min\": 5.747196231995051,\n        \"max\": 500.0,\n        \"num_unique_values\": 8,\n        \"samples\": [\n          29.714,\n          30.0,\n          500.0\n        ],\n        \"semantic_type\": \"\",\n        \"description\": \"\"\n      }\n    },\n    {\n      \"column\": \"AverageSpend\",\n      \"properties\": {\n        \"dtype\": \"number\",\n        \"std\": 169.5041296855863,\n        \"min\": 74.7324066607534,\n        \"max\": 539.48,\n        \"num_unique_values\": 8,\n        \"samples\": [\n          306.58468,\n          305.16999999999996,\n          500.0\n        ],\n        \"semantic_type\": \"\",\n        \"description\": \"\"\n      }\n    },\n    {\n      \"column\": \"FavoriteCuisine\",\n      \"properties\": {\n        \"dtype\": \"category\",\n        \"num_unique_values\": 4,\n        \"samples\": [\n          5,\n          \"108\",\n          \"500\"\n        ],\n        \"semantic_type\": \"\",\n        \"description\": \"\"\n      }\n    },\n    {\n      \"column\": \"DeliveryRating\",\n      \"properties\": {\n        \"dtype\": \"number\",\n        \"std\": 175.60512495613463,\n        \"min\": 0.7317941550536878,\n        \"max\": 500.0,\n        \"num_unique_values\": 8,\n        \"samples\": [\n          3.7594,\n          3.8,\n          500.0\n        ],\n        \"semantic_type\": \"\",\n        \"description\": \"\"\n      }\n    },\n    {\n      \"column\": \"AppUsageTimePerDay\",\n      \"properties\": {\n        \"dtype\": \"number\",\n        \"std\": 155.39097239297925,\n        \"min\": 10.1,\n        \"max\": 500.0,\n        \"num_unique_values\": 8,\n        \"samples\": [\n          93.5154,\n          93.1,\n          500.0\n        ],\n        \"semantic_type\": \"\",\n        \"description\": \"\"\n      }\n    }\n  ]\n}"
            }
          },
          "metadata": {},
          "execution_count": 31
        }
      ]
    },
    {
      "cell_type": "markdown",
      "source": [
        "###Key Insights from Dataset Analysis\n",
        "<b>Significant Spending Disparity:</b> User spending ranges from ₹80 to ₹539 per order, with an average of ₹306. The top 25% spend above ₹355, indicating a robust premium user segment.\n",
        "\n",
        "<b>App Engagement Varies Widely:</b> Daily app usage spans 10 to 179 minutes, with a high standard deviation, making it a key feature for behavioral clustering.\n",
        "\n",
        "<b>Thai Cuisine Preference Stands Out:</b> 21.6% of users prefer Thai cuisine, unsuitable for direct clustering but valuable for targeted promotional campaigns.\n",
        "\n",
        "<b>Inflated Delivery Ratings:</b> Ratings average 3.76, with no scores below 2.5, suggesting potential bias in feedback. Alternative satisfaction metrics should be investigated.\n",
        "\n",
        "<b>Youthful User Base Opportunity:</b> 25% of users are under 30, presenting a chance for tailored marketing or products aimed at Gen Z."
      ],
      "metadata": {
        "id": "zSk1HZvekdmd"
      }
    },
    {
      "cell_type": "markdown",
      "source": [
        "###Verify Missing Data\n",
        "To confirm data integrity, we use .isnull().sum() to check for missing values in each column."
      ],
      "metadata": {
        "id": "GUMe9efPk-u8"
      }
    },
    {
      "cell_type": "code",
      "source": [
        "df.isnull().sum()"
      ],
      "metadata": {
        "colab": {
          "base_uri": "https://localhost:8080/",
          "height": 303
        },
        "id": "4j60SF6IkO8G",
        "outputId": "147a2f75-98aa-4aa1-fd9e-f307f5fff696"
      },
      "execution_count": null,
      "outputs": [
        {
          "output_type": "execute_result",
          "data": {
            "text/plain": [
              "UserID                0\n",
              "Age                   0\n",
              "TotalOrders           0\n",
              "AverageSpend          0\n",
              "FavoriteCuisine       0\n",
              "DeliveryRating        0\n",
              "AppUsageTimePerDay    0\n",
              "dtype: int64"
            ],
            "text/html": [
              "<div>\n",
              "<style scoped>\n",
              "    .dataframe tbody tr th:only-of-type {\n",
              "        vertical-align: middle;\n",
              "    }\n",
              "\n",
              "    .dataframe tbody tr th {\n",
              "        vertical-align: top;\n",
              "    }\n",
              "\n",
              "    .dataframe thead th {\n",
              "        text-align: right;\n",
              "    }\n",
              "</style>\n",
              "<table border=\"1\" class=\"dataframe\">\n",
              "  <thead>\n",
              "    <tr style=\"text-align: right;\">\n",
              "      <th></th>\n",
              "      <th>0</th>\n",
              "    </tr>\n",
              "  </thead>\n",
              "  <tbody>\n",
              "    <tr>\n",
              "      <th>UserID</th>\n",
              "      <td>0</td>\n",
              "    </tr>\n",
              "    <tr>\n",
              "      <th>Age</th>\n",
              "      <td>0</td>\n",
              "    </tr>\n",
              "    <tr>\n",
              "      <th>TotalOrders</th>\n",
              "      <td>0</td>\n",
              "    </tr>\n",
              "    <tr>\n",
              "      <th>AverageSpend</th>\n",
              "      <td>0</td>\n",
              "    </tr>\n",
              "    <tr>\n",
              "      <th>FavoriteCuisine</th>\n",
              "      <td>0</td>\n",
              "    </tr>\n",
              "    <tr>\n",
              "      <th>DeliveryRating</th>\n",
              "      <td>0</td>\n",
              "    </tr>\n",
              "    <tr>\n",
              "      <th>AppUsageTimePerDay</th>\n",
              "      <td>0</td>\n",
              "    </tr>\n",
              "  </tbody>\n",
              "</table>\n",
              "</div><br><label><b>dtype:</b> int64</label>"
            ]
          },
          "metadata": {},
          "execution_count": 32
        }
      ]
    },
    {
      "cell_type": "markdown",
      "source": [
        "###Identify Duplicate Entries\n",
        "We use .duplicated().sum() to determine the number of duplicate rows in the dataset. If duplicates exist, we can eliminate them to ensure a clean dataset."
      ],
      "metadata": {
        "id": "mU9Fu7KblN2M"
      }
    },
    {
      "cell_type": "code",
      "source": [
        "print(df.duplicated().sum())"
      ],
      "metadata": {
        "colab": {
          "base_uri": "https://localhost:8080/"
        },
        "id": "612Hw2chlAyN",
        "outputId": "3f19f187-6c6e-4316-e3e4-95303db0dfff"
      },
      "execution_count": null,
      "outputs": [
        {
          "output_type": "stream",
          "name": "stdout",
          "text": [
            "0\n"
          ]
        }
      ]
    },
    {
      "cell_type": "markdown",
      "source": [
        "There are no missing values in the dataset"
      ],
      "metadata": {
        "id": "6rhTnZBOlXDW"
      }
    },
    {
      "cell_type": "code",
      "source": [
        "df['FavoriteCuisine'].value_counts()"
      ],
      "metadata": {
        "colab": {
          "base_uri": "https://localhost:8080/",
          "height": 272
        },
        "id": "1usSKuRPlWU0",
        "outputId": "0424e100-2c4b-4bb0-d75c-3e448a6aaa83"
      },
      "execution_count": null,
      "outputs": [
        {
          "output_type": "execute_result",
          "data": {
            "text/plain": [
              "FavoriteCuisine\n",
              "Thai       108\n",
              "Italian    106\n",
              "Indian     104\n",
              "Mexican     95\n",
              "Chinese     87\n",
              "Name: count, dtype: int64"
            ],
            "text/html": [
              "<div>\n",
              "<style scoped>\n",
              "    .dataframe tbody tr th:only-of-type {\n",
              "        vertical-align: middle;\n",
              "    }\n",
              "\n",
              "    .dataframe tbody tr th {\n",
              "        vertical-align: top;\n",
              "    }\n",
              "\n",
              "    .dataframe thead th {\n",
              "        text-align: right;\n",
              "    }\n",
              "</style>\n",
              "<table border=\"1\" class=\"dataframe\">\n",
              "  <thead>\n",
              "    <tr style=\"text-align: right;\">\n",
              "      <th></th>\n",
              "      <th>count</th>\n",
              "    </tr>\n",
              "    <tr>\n",
              "      <th>FavoriteCuisine</th>\n",
              "      <th></th>\n",
              "    </tr>\n",
              "  </thead>\n",
              "  <tbody>\n",
              "    <tr>\n",
              "      <th>Thai</th>\n",
              "      <td>108</td>\n",
              "    </tr>\n",
              "    <tr>\n",
              "      <th>Italian</th>\n",
              "      <td>106</td>\n",
              "    </tr>\n",
              "    <tr>\n",
              "      <th>Indian</th>\n",
              "      <td>104</td>\n",
              "    </tr>\n",
              "    <tr>\n",
              "      <th>Mexican</th>\n",
              "      <td>95</td>\n",
              "    </tr>\n",
              "    <tr>\n",
              "      <th>Chinese</th>\n",
              "      <td>87</td>\n",
              "    </tr>\n",
              "  </tbody>\n",
              "</table>\n",
              "</div><br><label><b>dtype:</b> int64</label>"
            ]
          },
          "metadata": {},
          "execution_count": 34
        }
      ]
    },
    {
      "cell_type": "markdown",
      "source": [
        "###Extracting Numerical Columns from DataFrame df\n",
        "This is valuable for tasks such as statistical analysis, visualization, or scaling, as it allows you to focus solely on numerical data, excluding non-numerical columns like strings or dates."
      ],
      "metadata": {
        "id": "hs9uY2wklfIO"
      }
    },
    {
      "cell_type": "code",
      "source": [
        "numercial_cols = df.select_dtypes(include=['int64','float64'])"
      ],
      "metadata": {
        "id": "dCkLnq2flbJb"
      },
      "execution_count": null,
      "outputs": []
    },
    {
      "cell_type": "markdown",
      "source": [
        "###Visualizing Key Features with Histograms\n",
        "The following code creates histograms for all features in the dataset, excluding UserID:"
      ],
      "metadata": {
        "id": "0tLidNeGlnve"
      }
    },
    {
      "cell_type": "code",
      "source": [
        "hist = df.drop(columns='UserID',axis=1).hist()\n",
        "plt.tight_layout()\n",
        "plt.show()"
      ],
      "metadata": {
        "colab": {
          "base_uri": "https://localhost:8080/",
          "height": 487
        },
        "id": "8aSSRrVLliqk",
        "outputId": "9da0dcdc-2357-483c-d3fb-9d6b2bd5ac36"
      },
      "execution_count": null,
      "outputs": [
        {
          "output_type": "display_data",
          "data": {
            "text/plain": [
              "<Figure size 640x480 with 6 Axes>"
            ],
            "image/png": "[encoded data removed]"
          },
          "metadata": {}
        }
      ]
    },
    {
      "cell_type": "markdown",
      "source": [
        "###Analysis of Feature Distributions\n",
        "\n",
        "*   Age: Slightly left-skewed distribution, with a notable concentration of users\n",
        "under 30, reflecting a strong Gen Z and Millennial presence.\n",
        "\n",
        "*   TotalOrders: Displays a near-normal bell-shaped distribution centered around 30 orders, offering good potential for segmenting casual versus loyal users.\n",
        "\n",
        "*   AverageSpend: Normally distributed, suggesting consistent spending patterns without significant skew, which supports reliable clustering.\n",
        "\n",
        "*   FavoriteCuisine: Uniformly distributed integers (0–4), indicating encoded categories. This should be excluded from clustering unless one-hot encoded.\n",
        "\n",
        "*   DeliveryRating: Bimodal distribution with peaks at 3 and 5, pointing to polarized user experiences. Potential dissatisfaction clusters warrant further exploration.\n",
        "\n",
        "*   AppUsageTimePerDay: Uniform distribution from 10 to 180 minutes, showing high engagement variance. Proper scaling is essential to prevent this feature from dominating PCA or clustering."
      ],
      "metadata": {
        "id": "JhoOqFERlyUF"
      }
    },
    {
      "cell_type": "markdown",
      "source": [
        "###Applying LabelEncoder for Categorical Data\n",
        "LabelEncoder converts categorical text data into numerical format by assigning a unique integer (0, 1, 2, ...) to each distinct category in a column.\n",
        "\n",
        "Since many machine learning models require numerical inputs, LabelEncoder transforms labels (e.g., 'Male', 'Female', 'Yes', 'No') into numeric values that models can process."
      ],
      "metadata": {
        "id": "BHspFDA1C9Ak"
      }
    },
    {
      "cell_type": "markdown",
      "source": [
        "`le = LabelEncoder()`\n",
        "- Creates an instance of the LabelEncoder class.\n",
        "\n",
        "`df['FavoriteCuisine'] = le.fit_transform(df['FavoriteCuisine'])`\n",
        "\n",
        "``fit_transform():``\n",
        "\n",
        "- fit: Finds all unique values in the 'FavoriteCuisine' column.\n",
        "\n",
        "- transform: Converts each category into a numeric label (e.g., 'Italian' → 0, 'Chinese' → 1, 'Indian' → 2, etc.).\n",
        "\n",
        "- This replaces the original string values in the column with their corresponding numeric codes.\n",
        "\n",
        "`df['FavoriteCuisine']`\n",
        "- Displays the newly transformed 'FavoriteCuisine' column, now with numeric labels."
      ],
      "metadata": {
        "id": "tI27bLv-C1EH"
      }
    },
    {
      "cell_type": "code",
      "source": [
        "from sklearn.preprocessing import LabelEncoder\n",
        "\n",
        "le = LabelEncoder()\n",
        "df['FavoriteCuisine'] = le.fit_transform(df['FavoriteCuisine'])"
      ],
      "metadata": {
        "id": "7wfCOXhUlrRq"
      },
      "execution_count": null,
      "outputs": []
    },
    {
      "cell_type": "code",
      "source": [
        "df.head()"
      ],
      "metadata": {
        "colab": {
          "base_uri": "https://localhost:8080/",
          "height": 206
        },
        "id": "YIlUDJbOCnzJ",
        "outputId": "9f402625-26f4-4cf2-8b16-83042ca00f63"
      },
      "execution_count": null,
      "outputs": [
        {
          "output_type": "execute_result",
          "data": {
            "text/plain": [
              "   UserID  Age  TotalOrders  AverageSpend  FavoriteCuisine  DeliveryRating  \\\n",
              "0       1   56           37        312.70                3             4.6   \n",
              "1       2   46           34        193.97                3             3.0   \n",
              "2       3   32           22        291.66                3             4.1   \n",
              "3       4   25           30        232.21                4             3.7   \n",
              "4       5   38           27        244.84                2             4.7   \n",
              "\n",
              "   AppUsageTimePerDay  \n",
              "0                20.9  \n",
              "1               150.2  \n",
              "2                59.7  \n",
              "3                85.5  \n",
              "4                13.7  "
            ],
            "text/html": [
              "\n",
              "  <div id=\"df-1a1d4ea7-ed27-4f6d-b3d1-db7d0f83f32e\" class=\"colab-df-container\">\n",
              "    <div>\n",
              "<style scoped>\n",
              "    .dataframe tbody tr th:only-of-type {\n",
              "        vertical-align: middle;\n",
              "    }\n",
              "\n",
              "    .dataframe tbody tr th {\n",
              "        vertical-align: top;\n",
              "    }\n",
              "\n",
              "    .dataframe thead th {\n",
              "        text-align: right;\n",
              "    }\n",
              "</style>\n",
              "<table border=\"1\" class=\"dataframe\">\n",
              "  <thead>\n",
              "    <tr style=\"text-align: right;\">\n",
              "      <th></th>\n",
              "      <th>UserID</th>\n",
              "      <th>Age</th>\n",
              "      <th>TotalOrders</th>\n",
              "      <th>AverageSpend</th>\n",
              "      <th>FavoriteCuisine</th>\n",
              "      <th>DeliveryRating</th>\n",
              "      <th>AppUsageTimePerDay</th>\n",
              "    </tr>\n",
              "  </thead>\n",
              "  <tbody>\n",
              "    <tr>\n",
              "      <th>0</th>\n",
              "      <td>1</td>\n",
              "      <td>56</td>\n",
              "      <td>37</td>\n",
              "      <td>312.70</td>\n",
              "      <td>3</td>\n",
              "      <td>4.6</td>\n",
              "      <td>20.9</td>\n",
              "    </tr>\n",
              "    <tr>\n",
              "      <th>1</th>\n",
              "      <td>2</td>\n",
              "      <td>46</td>\n",
              "      <td>34</td>\n",
              "      <td>193.97</td>\n",
              "      <td>3</td>\n",
              "      <td>3.0</td>\n",
              "      <td>150.2</td>\n",
              "    </tr>\n",
              "    <tr>\n",
              "      <th>2</th>\n",
              "      <td>3</td>\n",
              "      <td>32</td>\n",
              "      <td>22</td>\n",
              "      <td>291.66</td>\n",
              "      <td>3</td>\n",
              "      <td>4.1</td>\n",
              "      <td>59.7</td>\n",
              "    </tr>\n",
              "    <tr>\n",
              "      <th>3</th>\n",
              "      <td>4</td>\n",
              "      <td>25</td>\n",
              "      <td>30</td>\n",
              "      <td>232.21</td>\n",
              "      <td>4</td>\n",
              "      <td>3.7</td>\n",
              "      <td>85.5</td>\n",
              "    </tr>\n",
              "    <tr>\n",
              "      <th>4</th>\n",
              "      <td>5</td>\n",
              "      <td>38</td>\n",
              "      <td>27</td>\n",
              "      <td>244.84</td>\n",
              "      <td>2</td>\n",
              "      <td>4.7</td>\n",
              "      <td>13.7</td>\n",
              "    </tr>\n",
              "  </tbody>\n",
              "</table>\n",
              "</div>\n",
              "    <div class=\"colab-df-buttons\">\n",
              "\n",
              "  <div class=\"colab-df-container\">\n",
              "    <button class=\"colab-df-convert\" onclick=\"convertToInteractive('df-1a1d4ea7-ed27-4f6d-b3d1-db7d0f83f32e')\"\n",
              "            title=\"Convert this dataframe to an interactive table.\"\n",
              "            style=\"display:none;\">\n",
              "\n",
              "  <svg xmlns=\"http://www.w3.org/2000/svg\" height=\"24px\" viewBox=\"0 -960 960 960\">\n",
              "    <path d=\"M120-120v-720h720v720H120Zm60-500h600v-160H180v160Zm220 220h160v-160H400v160Zm0 220h160v-160H400v160ZM180-400h160v-160H180v160Zm440 0h160v-160H620v160ZM180-180h160v-160H180v160Zm440 0h160v-160H620v160Z\"/>\n",
              "  </svg>\n",
              "    </button>\n",
              "\n",
              "  <style>\n",
              "    .colab-df-container {\n",
              "      display:flex;\n",
              "      gap: 12px;\n",
              "    }\n",
              "\n",
              "    .colab-df-convert {\n",
              "      background-color: #E8F0FE;\n",
              "      border: none;\n",
              "      border-radius: 50%;\n",
              "      cursor: pointer;\n",
              "      display: none;\n",
              "      fill: #1967D2;\n",
              "      height: 32px;\n",
              "      padding: 0 0 0 0;\n",
              "      width: 32px;\n",
              "    }\n",
              "\n",
              "    .colab-df-convert:hover {\n",
              "      background-color: #E2EBFA;\n",
              "      box-shadow: 0px 1px 2px rgba(60, 64, 67, 0.3), 0px 1px 3px 1px rgba(60, 64, 67, 0.15);\n",
              "      fill: #174EA6;\n",
              "    }\n",
              "\n",
              "    .colab-df-buttons div {\n",
              "      margin-bottom: 4px;\n",
              "    }\n",
              "\n",
              "    [theme=dark] .colab-df-convert {\n",
              "      background-color: #3B4455;\n",
              "      fill: #D2E3FC;\n",
              "    }\n",
              "\n",
              "    [theme=dark] .colab-df-convert:hover {\n",
              "      background-color: #434B5C;\n",
              "      box-shadow: 0px 1px 3px 1px rgba(0, 0, 0, 0.15);\n",
              "      filter: drop-shadow(0px 1px 2px rgba(0, 0, 0, 0.3));\n",
              "      fill: #FFFFFF;\n",
              "    }\n",
              "  </style>\n",
              "\n",
              "    <script>\n",
              "      const buttonEl =\n",
              "        document.querySelector('#df-1a1d4ea7-ed27-4f6d-b3d1-db7d0f83f32e button.colab-df-convert');\n",
              "      buttonEl.style.display =\n",
              "        google.colab.kernel.accessAllowed ? 'block' : 'none';\n",
              "\n",
              "      async function convertToInteractive(key) {\n",
              "        const element = document.querySelector('#df-1a1d4ea7-ed27-4f6d-b3d1-db7d0f83f32e');\n",
              "        const dataTable =\n",
              "          await google.colab.kernel.invokeFunction('convertToInteractive',\n",
              "                                                    [key], {});\n",
              "        if (!dataTable) return;\n",
              "\n",
              "        const docLinkHtml = 'Like what you see? Visit the ' +\n",
              "          '<a target=\"_blank\" href=https://colab.research.google.com/notebooks/data_table.ipynb>data table notebook</a>'\n",
              "          + ' to learn more about interactive tables.';\n",
              "        element.innerHTML = '';\n",
              "        dataTable['output_type'] = 'display_data';\n",
              "        await google.colab.output.renderOutput(dataTable, element);\n",
              "        const docLink = document.createElement('div');\n",
              "        docLink.innerHTML = docLinkHtml;\n",
              "        element.appendChild(docLink);\n",
              "      }\n",
              "    </script>\n",
              "  </div>\n",
              "\n",
              "\n",
              "    <div id=\"df-81a82def-cbdb-4b87-ae31-94a4df0accdc\">\n",
              "      <button class=\"colab-df-quickchart\" onclick=\"quickchart('df-81a82def-cbdb-4b87-ae31-94a4df0accdc')\"\n",
              "                title=\"Suggest charts\"\n",
              "                style=\"display:none;\">\n",
              "\n",
              "<svg xmlns=\"http://www.w3.org/2000/svg\" height=\"24px\"viewBox=\"0 0 24 24\"\n",
              "     width=\"24px\">\n",
              "    <g>\n",
              "        <path d=\"M19 3H5c-1.1 0-2 .9-2 2v14c0 1.1.9 2 2 2h14c1.1 0 2-.9 2-2V5c0-1.1-.9-2-2-2zM9 17H7v-7h2v7zm4 0h-2V7h2v10zm4 0h-2v-4h2v4z\"/>\n",
              "    </g>\n",
              "</svg>\n",
              "      </button>\n",
              "\n",
              "<style>\n",
              "  .colab-df-quickchart {\n",
              "      --bg-color: #E8F0FE;\n",
              "      --fill-color: #1967D2;\n",
              "      --hover-bg-color: #E2EBFA;\n",
              "      --hover-fill-color: #174EA6;\n",
              "      --disabled-fill-color: #AAA;\n",
              "      --disabled-bg-color: #DDD;\n",
              "  }\n",
              "\n",
              "  [theme=dark] .colab-df-quickchart {\n",
              "      --bg-color: #3B4455;\n",
              "      --fill-color: #D2E3FC;\n",
              "      --hover-bg-color: #434B5C;\n",
              "      --hover-fill-color: #FFFFFF;\n",
              "      --disabled-bg-color: #3B4455;\n",
              "      --disabled-fill-color: #666;\n",
              "  }\n",
              "\n",
              "  .colab-df-quickchart {\n",
              "    background-color: var(--bg-color);\n",
              "    border: none;\n",
              "    border-radius: 50%;\n",
              "    cursor: pointer;\n",
              "    display: none;\n",
              "    fill: var(--fill-color);\n",
              "    height: 32px;\n",
              "    padding: 0;\n",
              "    width: 32px;\n",
              "  }\n",
              "\n",
              "  .colab-df-quickchart:hover {\n",
              "    background-color: var(--hover-bg-color);\n",
              "    box-shadow: 0 1px 2px rgba(60, 64, 67, 0.3), 0 1px 3px 1px rgba(60, 64, 67, 0.15);\n",
              "    fill: var(--button-hover-fill-color);\n",
              "  }\n",
              "\n",
              "  .colab-df-quickchart-complete:disabled,\n",
              "  .colab-df-quickchart-complete:disabled:hover {\n",
              "    background-color: var(--disabled-bg-color);\n",
              "    fill: var(--disabled-fill-color);\n",
              "    box-shadow: none;\n",
              "  }\n",
              "\n",
              "  .colab-df-spinner {\n",
              "    border: 2px solid var(--fill-color);\n",
              "    border-color: transparent;\n",
              "    border-bottom-color: var(--fill-color);\n",
              "    animation:\n",
              "      spin 1s steps(1) infinite;\n",
              "  }\n",
              "\n",
              "  @keyframes spin {\n",
              "    0% {\n",
              "      border-color: transparent;\n",
              "      border-bottom-color: var(--fill-color);\n",
              "      border-left-color: var(--fill-color);\n",
              "    }\n",
              "    20% {\n",
              "      border-color: transparent;\n",
              "      border-left-color: var(--fill-color);\n",
              "      border-top-color: var(--fill-color);\n",
              "    }\n",
              "    30% {\n",
              "      border-color: transparent;\n",
              "      border-left-color: var(--fill-color);\n",
              "      border-top-color: var(--fill-color);\n",
              "      border-right-color: var(--fill-color);\n",
              "    }\n",
              "    40% {\n",
              "      border-color: transparent;\n",
              "      border-right-color: var(--fill-color);\n",
              "      border-top-color: var(--fill-color);\n",
              "    }\n",
              "    60% {\n",
              "      border-color: transparent;\n",
              "      border-right-color: var(--fill-color);\n",
              "    }\n",
              "    80% {\n",
              "      border-color: transparent;\n",
              "      border-right-color: var(--fill-color);\n",
              "      border-bottom-color: var(--fill-color);\n",
              "    }\n",
              "    90% {\n",
              "      border-color: transparent;\n",
              "      border-bottom-color: var(--fill-color);\n",
              "    }\n",
              "  }\n",
              "</style>\n",
              "\n",
              "      <script>\n",
              "        async function quickchart(key) {\n",
              "          const quickchartButtonEl =\n",
              "            document.querySelector('#' + key + ' button');\n",
              "          quickchartButtonEl.disabled = true;  // To prevent multiple clicks.\n",
              "          quickchartButtonEl.classList.add('colab-df-spinner');\n",
              "          try {\n",
              "            const charts = await google.colab.kernel.invokeFunction(\n",
              "                'suggestCharts', [key], {});\n",
              "          } catch (error) {\n",
              "            console.error('Error during call to suggestCharts:', error);\n",
              "          }\n",
              "          quickchartButtonEl.classList.remove('colab-df-spinner');\n",
              "          quickchartButtonEl.classList.add('colab-df-quickchart-complete');\n",
              "        }\n",
              "        (() => {\n",
              "          let quickchartButtonEl =\n",
              "            document.querySelector('#df-81a82def-cbdb-4b87-ae31-94a4df0accdc button');\n",
              "          quickchartButtonEl.style.display =\n",
              "            google.colab.kernel.accessAllowed ? 'block' : 'none';\n",
              "        })();\n",
              "      </script>\n",
              "    </div>\n",
              "\n",
              "    </div>\n",
              "  </div>\n"
            ],
            "application/vnd.google.colaboratory.intrinsic+json": {
              "type": "dataframe",
              "variable_name": "df",
              "summary": "{\n  \"name\": \"df\",\n  \"rows\": 500,\n  \"fields\": [\n    {\n      \"column\": \"UserID\",\n      \"properties\": {\n        \"dtype\": \"number\",\n        \"std\": 144,\n        \"min\": 1,\n        \"max\": 500,\n        \"num_unique_values\": 500,\n        \"samples\": [\n          362,\n          74,\n          375\n        ],\n        \"semantic_type\": \"\",\n        \"description\": \"\"\n      }\n    },\n    {\n      \"column\": \"Age\",\n      \"properties\": {\n        \"dtype\": \"number\",\n        \"std\": 12,\n        \"min\": 18,\n        \"max\": 59,\n        \"num_unique_values\": 42,\n        \"samples\": [\n          26,\n          19,\n          41\n        ],\n        \"semantic_type\": \"\",\n        \"description\": \"\"\n      }\n    },\n    {\n      \"column\": \"TotalOrders\",\n      \"properties\": {\n        \"dtype\": \"number\",\n        \"std\": 5,\n        \"min\": 14,\n        \"max\": 47,\n        \"num_unique_values\": 32,\n        \"samples\": [\n          46,\n          23,\n          24\n        ],\n        \"semantic_type\": \"\",\n        \"description\": \"\"\n      }\n    },\n    {\n      \"column\": \"AverageSpend\",\n      \"properties\": {\n        \"dtype\": \"number\",\n        \"std\": 74.7324066607534,\n        \"min\": 80.9,\n        \"max\": 539.48,\n        \"num_unique_values\": 493,\n        \"samples\": [\n          355.41,\n          277.31,\n          178.87\n        ],\n        \"semantic_type\": \"\",\n        \"description\": \"\"\n      }\n    },\n    {\n      \"column\": \"FavoriteCuisine\",\n      \"properties\": {\n        \"dtype\": \"number\",\n        \"std\": 1,\n        \"min\": 0,\n        \"max\": 4,\n        \"num_unique_values\": 5,\n        \"samples\": [\n          4,\n          1,\n          2\n        ],\n        \"semantic_type\": \"\",\n        \"description\": \"\"\n      }\n    },\n    {\n      \"column\": \"DeliveryRating\",\n      \"properties\": {\n        \"dtype\": \"number\",\n        \"std\": 0.7317941550536878,\n        \"min\": 2.5,\n        \"max\": 5.0,\n        \"num_unique_values\": 26,\n        \"samples\": [\n          2.8,\n          4.9,\n          4.6\n        ],\n        \"semantic_type\": \"\",\n        \"description\": \"\"\n      }\n    },\n    {\n      \"column\": \"AppUsageTimePerDay\",\n      \"properties\": {\n        \"dtype\": \"number\",\n        \"std\": 48.4724782235266,\n        \"min\": 10.1,\n        \"max\": 179.9,\n        \"num_unique_values\": 434,\n        \"samples\": [\n          56.8,\n          114.8,\n          101.1\n        ],\n        \"semantic_type\": \"\",\n        \"description\": \"\"\n      }\n    }\n  ]\n}"
            }
          },
          "metadata": {},
          "execution_count": 38
        }
      ]
    },
    {
      "cell_type": "markdown",
      "source": [
        "###Correlation Matrix Overview\n",
        "A correlation matrix is a table displaying pairwise correlation coefficients between numerical variables, indicating the strength and direction of their relationships."
      ],
      "metadata": {
        "id": "xB3jM1jfDLzm"
      }
    },
    {
      "cell_type": "code",
      "source": [
        "corr=df.corr()\n",
        "sns.heatmap(corr,annot =True,linewidth=0.1)\n",
        "plt.plot()"
      ],
      "metadata": {
        "colab": {
          "base_uri": "https://localhost:8080/",
          "height": 593
        },
        "id": "WTV5HlLJDBeo",
        "outputId": "df5d8c6a-263f-4e56-e26c-ea0b546bdf6b"
      },
      "execution_count": null,
      "outputs": [
        {
          "output_type": "execute_result",
          "data": {
            "text/plain": [
              "[]"
            ]
          },
          "metadata": {},
          "execution_count": 39
        },
        {
          "output_type": "display_data",
          "data": {
            "text/plain": [
              "<Figure size 640x480 with 2 Axes>"
            ],
            "image/png": "[encoded data removed]"
          },
          "metadata": {}
        }
      ]
    },
    {
      "cell_type": "markdown",
      "source": [
        "###Retain Relevant Columns\n",
        "Unnecessary columns like 'UserID' are dropped from the dataset as they do not aid in clustering. All other features, particularly numerical ones, are kept for further analysis. This ensures the model concentrates on significant attributes."
      ],
      "metadata": {
        "id": "nu7QAB5yDVaV"
      }
    },
    {
      "cell_type": "code",
      "source": [
        "X = df.drop('UserID',axis=1)\n",
        "X"
      ],
      "metadata": {
        "colab": {
          "base_uri": "https://localhost:8080/",
          "height": 423
        },
        "id": "vRSxXkxYDPyM",
        "outputId": "2e89ff58-0c99-4c29-e7b5-3ee3e86c3dac"
      },
      "execution_count": null,
      "outputs": [
        {
          "output_type": "execute_result",
          "data": {
            "text/plain": [
              "     Age  TotalOrders  AverageSpend  FavoriteCuisine  DeliveryRating  \\\n",
              "0     56           37        312.70                3             4.6   \n",
              "1     46           34        193.97                3             3.0   \n",
              "2     32           22        291.66                3             4.1   \n",
              "3     25           30        232.21                4             3.7   \n",
              "4     38           27        244.84                2             4.7   \n",
              "..   ...          ...           ...              ...             ...   \n",
              "495   56           30        398.62                4             4.3   \n",
              "496   49           27        423.00                0             3.6   \n",
              "497   41           31        355.66                4             3.6   \n",
              "498   40           29        305.66                4             4.1   \n",
              "499   49           24        179.85                3             4.8   \n",
              "\n",
              "     AppUsageTimePerDay  \n",
              "0                  20.9  \n",
              "1                 150.2  \n",
              "2                  59.7  \n",
              "3                  85.5  \n",
              "4                  13.7  \n",
              "..                  ...  \n",
              "495               150.7  \n",
              "496                39.0  \n",
              "497                15.2  \n",
              "498                44.8  \n",
              "499                67.9  \n",
              "\n",
              "[500 rows x 6 columns]"
            ],
            "text/html": [
              "\n",
              "  <div id=\"df-4cb187d8-a9f6-494e-a8f8-ba8021ef98f2\" class=\"colab-df-container\">\n",
              "    <div>\n",
              "<style scoped>\n",
              "    .dataframe tbody tr th:only-of-type {\n",
              "        vertical-align: middle;\n",
              "    }\n",
              "\n",
              "    .dataframe tbody tr th {\n",
              "        vertical-align: top;\n",
              "    }\n",
              "\n",
              "    .dataframe thead th {\n",
              "        text-align: right;\n",
              "    }\n",
              "</style>\n",
              "<table border=\"1\" class=\"dataframe\">\n",
              "  <thead>\n",
              "    <tr style=\"text-align: right;\">\n",
              "      <th></th>\n",
              "      <th>Age</th>\n",
              "      <th>TotalOrders</th>\n",
              "      <th>AverageSpend</th>\n",
              "      <th>FavoriteCuisine</th>\n",
              "      <th>DeliveryRating</th>\n",
              "      <th>AppUsageTimePerDay</th>\n",
              "    </tr>\n",
              "  </thead>\n",
              "  <tbody>\n",
              "    <tr>\n",
              "      <th>0</th>\n",
              "      <td>56</td>\n",
              "      <td>37</td>\n",
              "      <td>312.70</td>\n",
              "      <td>3</td>\n",
              "      <td>4.6</td>\n",
              "      <td>20.9</td>\n",
              "    </tr>\n",
              "    <tr>\n",
              "      <th>1</th>\n",
              "      <td>46</td>\n",
              "      <td>34</td>\n",
              "      <td>193.97</td>\n",
              "      <td>3</td>\n",
              "      <td>3.0</td>\n",
              "      <td>150.2</td>\n",
              "    </tr>\n",
              "    <tr>\n",
              "      <th>2</th>\n",
              "      <td>32</td>\n",
              "      <td>22</td>\n",
              "      <td>291.66</td>\n",
              "      <td>3</td>\n",
              "      <td>4.1</td>\n",
              "      <td>59.7</td>\n",
              "    </tr>\n",
              "    <tr>\n",
              "      <th>3</th>\n",
              "      <td>25</td>\n",
              "      <td>30</td>\n",
              "      <td>232.21</td>\n",
              "      <td>4</td>\n",
              "      <td>3.7</td>\n",
              "      <td>85.5</td>\n",
              "    </tr>\n",
              "    <tr>\n",
              "      <th>4</th>\n",
              "      <td>38</td>\n",
              "      <td>27</td>\n",
              "      <td>244.84</td>\n",
              "      <td>2</td>\n",
              "      <td>4.7</td>\n",
              "      <td>13.7</td>\n",
              "    </tr>\n",
              "    <tr>\n",
              "      <th>...</th>\n",
              "      <td>...</td>\n",
              "      <td>...</td>\n",
              "      <td>...</td>\n",
              "      <td>...</td>\n",
              "      <td>...</td>\n",
              "      <td>...</td>\n",
              "    </tr>\n",
              "    <tr>\n",
              "      <th>495</th>\n",
              "      <td>56</td>\n",
              "      <td>30</td>\n",
              "      <td>398.62</td>\n",
              "      <td>4</td>\n",
              "      <td>4.3</td>\n",
              "      <td>150.7</td>\n",
              "    </tr>\n",
              "    <tr>\n",
              "      <th>496</th>\n",
              "      <td>49</td>\n",
              "      <td>27</td>\n",
              "      <td>423.00</td>\n",
              "      <td>0</td>\n",
              "      <td>3.6</td>\n",
              "      <td>39.0</td>\n",
              "    </tr>\n",
              "    <tr>\n",
              "      <th>497</th>\n",
              "      <td>41</td>\n",
              "      <td>31</td>\n",
              "      <td>355.66</td>\n",
              "      <td>4</td>\n",
              "      <td>3.6</td>\n",
              "      <td>15.2</td>\n",
              "    </tr>\n",
              "    <tr>\n",
              "      <th>498</th>\n",
              "      <td>40</td>\n",
              "      <td>29</td>\n",
              "      <td>305.66</td>\n",
              "      <td>4</td>\n",
              "      <td>4.1</td>\n",
              "      <td>44.8</td>\n",
              "    </tr>\n",
              "    <tr>\n",
              "      <th>499</th>\n",
              "      <td>49</td>\n",
              "      <td>24</td>\n",
              "      <td>179.85</td>\n",
              "      <td>3</td>\n",
              "      <td>4.8</td>\n",
              "      <td>67.9</td>\n",
              "    </tr>\n",
              "  </tbody>\n",
              "</table>\n",
              "<p>500 rows × 6 columns</p>\n",
              "</div>\n",
              "    <div class=\"colab-df-buttons\">\n",
              "\n",
              "  <div class=\"colab-df-container\">\n",
              "    <button class=\"colab-df-convert\" onclick=\"convertToInteractive('df-4cb187d8-a9f6-494e-a8f8-ba8021ef98f2')\"\n",
              "            title=\"Convert this dataframe to an interactive table.\"\n",
              "            style=\"display:none;\">\n",
              "\n",
              "  <svg xmlns=\"http://www.w3.org/2000/svg\" height=\"24px\" viewBox=\"0 -960 960 960\">\n",
              "    <path d=\"M120-120v-720h720v720H120Zm60-500h600v-160H180v160Zm220 220h160v-160H400v160Zm0 220h160v-160H400v160ZM180-400h160v-160H180v160Zm440 0h160v-160H620v160ZM180-180h160v-160H180v160Zm440 0h160v-160H620v160Z\"/>\n",
              "  </svg>\n",
              "    </button>\n",
              "\n",
              "  <style>\n",
              "    .colab-df-container {\n",
              "      display:flex;\n",
              "      gap: 12px;\n",
              "    }\n",
              "\n",
              "    .colab-df-convert {\n",
              "      background-color: #E8F0FE;\n",
              "      border: none;\n",
              "      border-radius: 50%;\n",
              "      cursor: pointer;\n",
              "      display: none;\n",
              "      fill: #1967D2;\n",
              "      height: 32px;\n",
              "      padding: 0 0 0 0;\n",
              "      width: 32px;\n",
              "    }\n",
              "\n",
              "    .colab-df-convert:hover {\n",
              "      background-color: #E2EBFA;\n",
              "      box-shadow: 0px 1px 2px rgba(60, 64, 67, 0.3), 0px 1px 3px 1px rgba(60, 64, 67, 0.15);\n",
              "      fill: #174EA6;\n",
              "    }\n",
              "\n",
              "    .colab-df-buttons div {\n",
              "      margin-bottom: 4px;\n",
              "    }\n",
              "\n",
              "    [theme=dark] .colab-df-convert {\n",
              "      background-color: #3B4455;\n",
              "      fill: #D2E3FC;\n",
              "    }\n",
              "\n",
              "    [theme=dark] .colab-df-convert:hover {\n",
              "      background-color: #434B5C;\n",
              "      box-shadow: 0px 1px 3px 1px rgba(0, 0, 0, 0.15);\n",
              "      filter: drop-shadow(0px 1px 2px rgba(0, 0, 0, 0.3));\n",
              "      fill: #FFFFFF;\n",
              "    }\n",
              "  </style>\n",
              "\n",
              "    <script>\n",
              "      const buttonEl =\n",
              "        document.querySelector('#df-4cb187d8-a9f6-494e-a8f8-ba8021ef98f2 button.colab-df-convert');\n",
              "      buttonEl.style.display =\n",
              "        google.colab.kernel.accessAllowed ? 'block' : 'none';\n",
              "\n",
              "      async function convertToInteractive(key) {\n",
              "        const element = document.querySelector('#df-4cb187d8-a9f6-494e-a8f8-ba8021ef98f2');\n",
              "        const dataTable =\n",
              "          await google.colab.kernel.invokeFunction('convertToInteractive',\n",
              "                                                    [key], {});\n",
              "        if (!dataTable) return;\n",
              "\n",
              "        const docLinkHtml = 'Like what you see? Visit the ' +\n",
              "          '<a target=\"_blank\" href=https://colab.research.google.com/notebooks/data_table.ipynb>data table notebook</a>'\n",
              "          + ' to learn more about interactive tables.';\n",
              "        element.innerHTML = '';\n",
              "        dataTable['output_type'] = 'display_data';\n",
              "        await google.colab.output.renderOutput(dataTable, element);\n",
              "        const docLink = document.createElement('div');\n",
              "        docLink.innerHTML = docLinkHtml;\n",
              "        element.appendChild(docLink);\n",
              "      }\n",
              "    </script>\n",
              "  </div>\n",
              "\n",
              "\n",
              "    <div id=\"df-d5ac401f-9087-47b4-95cc-012689b8f893\">\n",
              "      <button class=\"colab-df-quickchart\" onclick=\"quickchart('df-d5ac401f-9087-47b4-95cc-012689b8f893')\"\n",
              "                title=\"Suggest charts\"\n",
              "                style=\"display:none;\">\n",
              "\n",
              "<svg xmlns=\"http://www.w3.org/2000/svg\" height=\"24px\"viewBox=\"0 0 24 24\"\n",
              "     width=\"24px\">\n",
              "    <g>\n",
              "        <path d=\"M19 3H5c-1.1 0-2 .9-2 2v14c0 1.1.9 2 2 2h14c1.1 0 2-.9 2-2V5c0-1.1-.9-2-2-2zM9 17H7v-7h2v7zm4 0h-2V7h2v10zm4 0h-2v-4h2v4z\"/>\n",
              "    </g>\n",
              "</svg>\n",
              "      </button>\n",
              "\n",
              "<style>\n",
              "  .colab-df-quickchart {\n",
              "      --bg-color: #E8F0FE;\n",
              "      --fill-color: #1967D2;\n",
              "      --hover-bg-color: #E2EBFA;\n",
              "      --hover-fill-color: #174EA6;\n",
              "      --disabled-fill-color: #AAA;\n",
              "      --disabled-bg-color: #DDD;\n",
              "  }\n",
              "\n",
              "  [theme=dark] .colab-df-quickchart {\n",
              "      --bg-color: #3B4455;\n",
              "      --fill-color: #D2E3FC;\n",
              "      --hover-bg-color: #434B5C;\n",
              "      --hover-fill-color: #FFFFFF;\n",
              "      --disabled-bg-color: #3B4455;\n",
              "      --disabled-fill-color: #666;\n",
              "  }\n",
              "\n",
              "  .colab-df-quickchart {\n",
              "    background-color: var(--bg-color);\n",
              "    border: none;\n",
              "    border-radius: 50%;\n",
              "    cursor: pointer;\n",
              "    display: none;\n",
              "    fill: var(--fill-color);\n",
              "    height: 32px;\n",
              "    padding: 0;\n",
              "    width: 32px;\n",
              "  }\n",
              "\n",
              "  .colab-df-quickchart:hover {\n",
              "    background-color: var(--hover-bg-color);\n",
              "    box-shadow: 0 1px 2px rgba(60, 64, 67, 0.3), 0 1px 3px 1px rgba(60, 64, 67, 0.15);\n",
              "    fill: var(--button-hover-fill-color);\n",
              "  }\n",
              "\n",
              "  .colab-df-quickchart-complete:disabled,\n",
              "  .colab-df-quickchart-complete:disabled:hover {\n",
              "    background-color: var(--disabled-bg-color);\n",
              "    fill: var(--disabled-fill-color);\n",
              "    box-shadow: none;\n",
              "  }\n",
              "\n",
              "  .colab-df-spinner {\n",
              "    border: 2px solid var(--fill-color);\n",
              "    border-color: transparent;\n",
              "    border-bottom-color: var(--fill-color);\n",
              "    animation:\n",
              "      spin 1s steps(1) infinite;\n",
              "  }\n",
              "\n",
              "  @keyframes spin {\n",
              "    0% {\n",
              "      border-color: transparent;\n",
              "      border-bottom-color: var(--fill-color);\n",
              "      border-left-color: var(--fill-color);\n",
              "    }\n",
              "    20% {\n",
              "      border-color: transparent;\n",
              "      border-left-color: var(--fill-color);\n",
              "      border-top-color: var(--fill-color);\n",
              "    }\n",
              "    30% {\n",
              "      border-color: transparent;\n",
              "      border-left-color: var(--fill-color);\n",
              "      border-top-color: var(--fill-color);\n",
              "      border-right-color: var(--fill-color);\n",
              "    }\n",
              "    40% {\n",
              "      border-color: transparent;\n",
              "      border-right-color: var(--fill-color);\n",
              "      border-top-color: var(--fill-color);\n",
              "    }\n",
              "    60% {\n",
              "      border-color: transparent;\n",
              "      border-right-color: var(--fill-color);\n",
              "    }\n",
              "    80% {\n",
              "      border-color: transparent;\n",
              "      border-right-color: var(--fill-color);\n",
              "      border-bottom-color: var(--fill-color);\n",
              "    }\n",
              "    90% {\n",
              "      border-color: transparent;\n",
              "      border-bottom-color: var(--fill-color);\n",
              "    }\n",
              "  }\n",
              "</style>\n",
              "\n",
              "      <script>\n",
              "        async function quickchart(key) {\n",
              "          const quickchartButtonEl =\n",
              "            document.querySelector('#' + key + ' button');\n",
              "          quickchartButtonEl.disabled = true;  // To prevent multiple clicks.\n",
              "          quickchartButtonEl.classList.add('colab-df-spinner');\n",
              "          try {\n",
              "            const charts = await google.colab.kernel.invokeFunction(\n",
              "                'suggestCharts', [key], {});\n",
              "          } catch (error) {\n",
              "            console.error('Error during call to suggestCharts:', error);\n",
              "          }\n",
              "          quickchartButtonEl.classList.remove('colab-df-spinner');\n",
              "          quickchartButtonEl.classList.add('colab-df-quickchart-complete');\n",
              "        }\n",
              "        (() => {\n",
              "          let quickchartButtonEl =\n",
              "            document.querySelector('#df-d5ac401f-9087-47b4-95cc-012689b8f893 button');\n",
              "          quickchartButtonEl.style.display =\n",
              "            google.colab.kernel.accessAllowed ? 'block' : 'none';\n",
              "        })();\n",
              "      </script>\n",
              "    </div>\n",
              "\n",
              "  <div id=\"id_bc01e764-84bf-465f-8c6f-5dc911a79abc\">\n",
              "    <style>\n",
              "      .colab-df-generate {\n",
              "        background-color: #E8F0FE;\n",
              "        border: none;\n",
              "        border-radius: 50%;\n",
              "        cursor: pointer;\n",
              "        display: none;\n",
              "        fill: #1967D2;\n",
              "        height: 32px;\n",
              "        padding: 0 0 0 0;\n",
              "        width: 32px;\n",
              "      }\n",
              "\n",
              "      .colab-df-generate:hover {\n",
              "        background-color: #E2EBFA;\n",
              "        box-shadow: 0px 1px 2px rgba(60, 64, 67, 0.3), 0px 1px 3px 1px rgba(60, 64, 67, 0.15);\n",
              "        fill: #174EA6;\n",
              "      }\n",
              "\n",
              "      [theme=dark] .colab-df-generate {\n",
              "        background-color: #3B4455;\n",
              "        fill: #D2E3FC;\n",
              "      }\n",
              "\n",
              "      [theme=dark] .colab-df-generate:hover {\n",
              "        background-color: #434B5C;\n",
              "        box-shadow: 0px 1px 3px 1px rgba(0, 0, 0, 0.15);\n",
              "        filter: drop-shadow(0px 1px 2px rgba(0, 0, 0, 0.3));\n",
              "        fill: #FFFFFF;\n",
              "      }\n",
              "    </style>\n",
              "    <button class=\"colab-df-generate\" onclick=\"generateWithVariable('X')\"\n",
              "            title=\"Generate code using this dataframe.\"\n",
              "            style=\"display:none;\">\n",
              "\n",
              "  <svg xmlns=\"http://www.w3.org/2000/svg\" height=\"24px\"viewBox=\"0 0 24 24\"\n",
              "       width=\"24px\">\n",
              "    <path d=\"M7,19H8.4L18.45,9,17,7.55,7,17.6ZM5,21V16.75L18.45,3.32a2,2,0,0,1,2.83,0l1.4,1.43a1.91,1.91,0,0,1,.58,1.4,1.91,1.91,0,0,1-.58,1.4L9.25,21ZM18.45,9,17,7.55Zm-12,3A5.31,5.31,0,0,0,4.9,8.1,5.31,5.31,0,0,0,1,6.5,5.31,5.31,0,0,0,4.9,4.9,5.31,5.31,0,0,0,6.5,1,5.31,5.31,0,0,0,8.1,4.9,5.31,5.31,0,0,0,12,6.5,5.46,5.46,0,0,0,6.5,12Z\"/>\n",
              "  </svg>\n",
              "    </button>\n",
              "    <script>\n",
              "      (() => {\n",
              "      const buttonEl =\n",
              "        document.querySelector('#id_bc01e764-84bf-465f-8c6f-5dc911a79abc button.colab-df-generate');\n",
              "      buttonEl.style.display =\n",
              "        google.colab.kernel.accessAllowed ? 'block' : 'none';\n",
              "\n",
              "      buttonEl.onclick = () => {\n",
              "        google.colab.notebook.generateWithVariable('X');\n",
              "      }\n",
              "      })();\n",
              "    </script>\n",
              "  </div>\n",
              "\n",
              "    </div>\n",
              "  </div>\n"
            ],
            "application/vnd.google.colaboratory.intrinsic+json": {
              "type": "dataframe",
              "variable_name": "X",
              "summary": "{\n  \"name\": \"X\",\n  \"rows\": 500,\n  \"fields\": [\n    {\n      \"column\": \"Age\",\n      \"properties\": {\n        \"dtype\": \"number\",\n        \"std\": 12,\n        \"min\": 18,\n        \"max\": 59,\n        \"num_unique_values\": 42,\n        \"samples\": [\n          26,\n          19,\n          41\n        ],\n        \"semantic_type\": \"\",\n        \"description\": \"\"\n      }\n    },\n    {\n      \"column\": \"TotalOrders\",\n      \"properties\": {\n        \"dtype\": \"number\",\n        \"std\": 5,\n        \"min\": 14,\n        \"max\": 47,\n        \"num_unique_values\": 32,\n        \"samples\": [\n          46,\n          23,\n          24\n        ],\n        \"semantic_type\": \"\",\n        \"description\": \"\"\n      }\n    },\n    {\n      \"column\": \"AverageSpend\",\n      \"properties\": {\n        \"dtype\": \"number\",\n        \"std\": 74.7324066607534,\n        \"min\": 80.9,\n        \"max\": 539.48,\n        \"num_unique_values\": 493,\n        \"samples\": [\n          355.41,\n          277.31,\n          178.87\n        ],\n        \"semantic_type\": \"\",\n        \"description\": \"\"\n      }\n    },\n    {\n      \"column\": \"FavoriteCuisine\",\n      \"properties\": {\n        \"dtype\": \"number\",\n        \"std\": 1,\n        \"min\": 0,\n        \"max\": 4,\n        \"num_unique_values\": 5,\n        \"samples\": [\n          4,\n          1,\n          2\n        ],\n        \"semantic_type\": \"\",\n        \"description\": \"\"\n      }\n    },\n    {\n      \"column\": \"DeliveryRating\",\n      \"properties\": {\n        \"dtype\": \"number\",\n        \"std\": 0.7317941550536878,\n        \"min\": 2.5,\n        \"max\": 5.0,\n        \"num_unique_values\": 26,\n        \"samples\": [\n          2.8,\n          4.9,\n          4.6\n        ],\n        \"semantic_type\": \"\",\n        \"description\": \"\"\n      }\n    },\n    {\n      \"column\": \"AppUsageTimePerDay\",\n      \"properties\": {\n        \"dtype\": \"number\",\n        \"std\": 48.4724782235266,\n        \"min\": 10.1,\n        \"max\": 179.9,\n        \"num_unique_values\": 434,\n        \"samples\": [\n          56.8,\n          114.8,\n          101.1\n        ],\n        \"semantic_type\": \"\",\n        \"description\": \"\"\n      }\n    }\n  ]\n}"
            }
          },
          "metadata": {},
          "execution_count": 40
        }
      ]
    },
    {
      "cell_type": "markdown",
      "source": [
        "###Scale Your Data\n",
        "Standardization is used to rescale data, ensuring all features contribute equally to clustering algorithms. It transforms data to have a mean of 0 and a standard deviation of 1. Without this step, features with wider ranges could disproportionately influence clustering results."
      ],
      "metadata": {
        "id": "mDuSlol4DsU-"
      }
    },
    {
      "cell_type": "code",
      "source": [
        "from sklearn.preprocessing import StandardScaler\n",
        "\n",
        "sc = StandardScaler()\n",
        "X_scaled = sc.fit_transform(X)"
      ],
      "metadata": {
        "id": "jSta4d-KDebv"
      },
      "execution_count": null,
      "outputs": []
    },
    {
      "cell_type": "markdown",
      "source": [
        "###Apply PCA for Dimensionality Reduction\n",
        "Principal Component Analysis (PCA) is used to reduce the dataset to two dimensions, enabling visualization of high-dimensional data in 2D space. PCA eliminates redundancy by combining correlated features into principal components.\n",
        "\n",
        "Why Use PCA?\n",
        "\n",
        "Multiple features can cause:\n",
        "\n",
        "*   Slower model performance\n",
        "*   Overfitting\n",
        "*   Challenges in visualization\n",
        "\n",
        "Benefits of PCA:\n",
        "*   Eliminates redundant or correlated features\n",
        "*   Simplifies data visualization (2D or 3D)\n",
        "*   Enhances model speed and potentially accuracy"
      ],
      "metadata": {
        "id": "pW_Rziq-D_mt"
      }
    },
    {
      "cell_type": "code",
      "source": [
        "from sklearn.decomposition import PCA\n",
        "pca = PCA(n_components=2)\n",
        "x_pca = pca.fit_transform(X_scaled)"
      ],
      "metadata": {
        "id": "Oe3Tq76kDy2f"
      },
      "execution_count": null,
      "outputs": []
    },
    {
      "cell_type": "markdown",
      "source": [
        "###Cluster Users with KMeans Clustering\n",
        "KMeans, an unsupervised machine learning algorithm, groups similar data points into clusters. Here, the standardized dataset is divided into 3 clusters using KMeans, assigning a cluster label to each user.\n",
        "\n",
        "###Clustering Algorithms:\n",
        "\n",
        "*   KMeans: Partitions data into k distinct, non-overlapping clusters.\n",
        "*   AgglomerativeClustering: A hierarchical method that builds nested clusters by merging or splitting.\n",
        "*   DBSCAN: A density-based method that groups closely packed points and identifies outliers as noise.\n",
        "\n",
        "**from sklearn.cluster import KMeans, AgglomerativeClustering, DBSCAN**\n",
        "\n",
        "This imports three clustering algorithms from sklearn.cluster:\n",
        "\n",
        "*   KMeans: Partition-based clustering.\n",
        "*   AgglomerativeClustering: Hierarchical clustering.\n",
        "*   DBSCAN: Density-based clustering.\n",
        "\n",
        "**kmeans = KMeans(n_clusters=3)**\n",
        "\n",
        "Initializes a KMeans model to partition the data into 3 clusters.\n",
        "\n",
        "**kmeans_labels = kmeans.fit_predict(X_scaled)**\n",
        "\n",
        "*   fit_predict():\n",
        "  *   Fits the KMeans model to the scaled data (X_scaled).\n",
        "  *   Assigns each data point a cluster label (0, 1, or 2).\n",
        "*   The output, kmeans_labels, is an array of cluster assignments for each user.\n",
        "\n",
        "**centroid_pca = pca.transform(kmeans.cluster_centers_)**\n",
        "\n",
        "*   kmeans.cluster_centers_ provides the coordinates of cluster centers in the original feature space.\n",
        "*   pca.transform(...) projects these centers into PCA space (2D, if n_components=2 was used).\n",
        "*   The result, centroid_pca, represents cluster centroids in the reduced PCA space for visualization."
      ],
      "metadata": {
        "id": "To75teGBEnV0"
      }
    },
    {
      "cell_type": "code",
      "source": [
        "from sklearn.cluster import KMeans,AgglomerativeClustering,DBSCAN\n",
        "kmeans = KMeans(n_clusters =3)\n",
        "kmeans_labels = kmeans.fit_predict(X_scaled)"
      ],
      "metadata": {
        "id": "rGcdq7CvEg3i"
      },
      "execution_count": null,
      "outputs": []
    },
    {
      "cell_type": "code",
      "source": [
        "centriod_pca = pca.transform(kmeans.cluster_centers_)"
      ],
      "metadata": {
        "id": "EcYZSxAaFhBA"
      },
      "execution_count": null,
      "outputs": []
    },
    {
      "cell_type": "markdown",
      "source": [
        "###Display Clusters with a Scatter Plot\n",
        "\n",
        "The PCA-transformed data is visualized in a 2D scatter plot, with each point representing a user. Distinct colors indicate different KMeans clusters, aiding in evaluating the separation of clusters in the feature space."
      ],
      "metadata": {
        "id": "EtAUvvxTFqmZ"
      }
    },
    {
      "cell_type": "code",
      "source": [
        "plt.figure(figsize=(5,3))\n",
        "sns.scatterplot(x=x_pca[:,0],y=x_pca[:,1],hue = kmeans_labels,palette=\"viridis\")\n",
        "plt.plot(centriod_pca[:,0],centriod_pca[:,1],color='BLACK',marker='o')\n",
        "plt.title(\"KMEANS LABELS\")\n",
        "plt.show()"
      ],
      "metadata": {
        "colab": {
          "base_uri": "https://localhost:8080/",
          "height": 314
        },
        "id": "Yl5K3urdFiUq",
        "outputId": "e73dc1f1-5e77-4d72-ec6e-947c232b6a94"
      },
      "execution_count": null,
      "outputs": [
        {
          "output_type": "display_data",
          "data": {
            "text/plain": [
              "<Figure size 500x300 with 1 Axes>"
            ],
            "image/png": "[encoded data removed]"
          },
          "metadata": {}
        }
      ]
    },
    {
      "cell_type": "markdown",
      "source": [
        "###Visualizing PCA-Reduced Clusters in a Scatter Plot\n",
        "The scatter plot shows PCA-reduced user data in 2D, with each point representing a user and colors indicating kmeans_labels. PCA condenses high-dimensional standardized features into two principal components (PC1, PC2), retaining maximum variance. Red markers denote cluster centers from kmeans.cluster_centers_, projected into PCA space via pca.transform().\n",
        "\n",
        "The clusters are reasonably well-separated, suggesting that features like AverageSpend and AppUsageTimePerDay drive significant variance. Cluster 2 appears more spread out, while Cluster 1 is tightly grouped, indicating lower intra-cluster variance. The red centroids are well-aligned with the core of each cluster, confirming effective KMeans convergence.\n",
        "\n",
        "Some overlap occurs near the origin, where users have similar feature values. These ambiguous cases may challenge hard clustering methods; alternatives like DBSCAN or GaussianMixture could improve segmentation by leveraging density or probabilistic membership."
      ],
      "metadata": {
        "id": "uPN07nsOF80S"
      }
    },
    {
      "cell_type": "markdown",
      "source": [
        "###Cluster Users Using Agglomerative Clustering\n",
        "###Overview of Agglomerative Clustering\n",
        "\n",
        "Agglomerative Clustering is a hierarchical clustering method that adopts a bottom-up approach:\n",
        "\n",
        "*   Each data point begins as an individual cluster.\n",
        "*   The closest clusters are progressively merged.\n",
        "*   Merging continues until the specified number of clusters (n_clusters) is achieved.\n"
      ],
      "metadata": {
        "id": "mDvfq0RsGLm6"
      }
    },
    {
      "cell_type": "code",
      "source": [
        "agglo = AgglomerativeClustering(n_clusters=3)\n",
        "agglo_labels = agglo.fit_predict(X_scaled)"
      ],
      "metadata": {
        "id": "lozayU3zFupH"
      },
      "execution_count": null,
      "outputs": []
    },
    {
      "cell_type": "markdown",
      "source": [
        "###Display Clusters from Agglomerative Clustering\n",
        "A scatter plot is generated to visualize the results of Agglomerative Clustering. Each user is represented as a point in PCA space, with colors indicating their assigned cluster. This visualization facilitates comparison of Agglomerative Clustering's performance with KMeans."
      ],
      "metadata": {
        "id": "F_jYeEIPGfbK"
      }
    },
    {
      "cell_type": "code",
      "source": [
        "plt.figure(figsize=(5,3))\n",
        "sns.scatterplot(x=x_pca[:,1],y=x_pca[:,0],hue=agglo_labels,palette=\"viridis\")\n",
        "plt.title(\"AGGLOMERATIVE CLUSTER\")\n",
        "plt.show()"
      ],
      "metadata": {
        "colab": {
          "base_uri": "https://localhost:8080/",
          "height": 314
        },
        "id": "xeZArPyHGcow",
        "outputId": "f6437fb8-2c72-401d-de64-6a8dc863c5c4"
      },
      "execution_count": null,
      "outputs": [
        {
          "output_type": "display_data",
          "data": {
            "text/plain": [
              "<Figure size 500x300 with 1 Axes>"
            ],
            "image/png": "[encoded data removed]"
          },
          "metadata": {}
        }
      ]
    },
    {
      "cell_type": "markdown",
      "source": [
        "###Visualizing Agglomerative Clustering Results\n",
        "The scatter plot displays the outcome of AgglomerativeClustering on PCA-reduced data, with each point representing a user and colors indicating cluster labels. The algorithm hierarchically merges similar users based on distance, forming three clusters.\n",
        "\n",
        "Cluster 2 (yellow) stands out distinctly on the right, while clusters 0 and 1 overlap near the center, suggesting users in these groups have similar feature profiles. Compared to KMeans, Agglomerative Clustering better captures local structure but faces challenges in compact, overlapping regions.\n",
        "\n",
        "The overlap indicates potential difficulties in separating dense areas, which could be addressed by adjusting linkage criteria or exploring density-based clustering methods like DBSCAN."
      ],
      "metadata": {
        "id": "TyQUkFu-Gp65"
      }
    },
    {
      "cell_type": "markdown",
      "source": [
        "###Create a Dendrogram for Cluster Formation Visualization\n",
        "A dendrogram is a tree-like diagram illustrating the hierarchical merging of clusters at each step. It aids in understanding cluster formation and helps determine the optimal number of clusters by identifying large vertical gaps.\n",
        "\n",
        "<b>Linkage:</b> Generates the linkage matrix that encodes the hierarchical clustering steps.\n",
        "\n",
        "*   Uses the 'ward' method to compute the linkage matrix:\n",
        "  *   The Ward method minimizes within-cluster variance during merging.\n",
        "  *   It is ideal for clustering based on Euclidean distance.\n",
        "\n",
        "\n"
      ],
      "metadata": {
        "id": "J7m2MPNTGpyj"
      }
    },
    {
      "cell_type": "code",
      "source": [
        "from scipy.cluster.hierarchy import linkage, dendrogram\n",
        "plt.figure(figsize=(12,8))\n",
        "link = linkage(X_scaled,method='ward')\n",
        "dendrogram(link,p=30,truncate_mode='lastp')\n",
        "plt.title(\"DENDOGRAM\")\n",
        "plt.show()"
      ],
      "metadata": {
        "colab": {
          "base_uri": "https://localhost:8080/",
          "height": 715
        },
        "id": "jDjaRUaXGl5f",
        "outputId": "f79bf90d-b8b7-48e8-cf5a-ff0b64de046d"
      },
      "execution_count": null,
      "outputs": [
        {
          "output_type": "display_data",
          "data": {
            "text/plain": [
              "<Figure size 1200x800 with 1 Axes>"
            ],
            "image/png": "[encoded data removed]"
          },
          "metadata": {}
        }
      ]
    },
    {
      "cell_type": "markdown",
      "source": [
        "###Visualizing Hierarchical Clustering with a Dendrogram\n",
        "The dendrogram illustrates the hierarchical merging process in Agglomerative Clustering, showing how individual data points or small clusters combine step-by-step into larger clusters based on similarity, forming a tree-like structure.\n",
        "*   X-axis: Represents sample indices or small clusters.\n",
        "*   Y-axis: Displays linkage distance, indicating the dissimilarity between merged clusters.\n",
        "*   The height of vertical lines (merges) reflects the distance between clusters at the time of merging, with taller lines indicating less similar clusters merged later.\n",
        "\n",
        "<b>How It Works</b>\n",
        "*   Each data point begins as an individual cluster.\n",
        "*   At each step, the two closest clusters, based on a linkage metric (e.g., Ward, average, or complete), are merged.\n",
        "*   This continues until all points form a single cluster at the top of the tree.\n",
        "*   To select the number of clusters, a horizontal cut is made across the dendrogram at a chosen height. For instance, cutting where three large vertical jumps occur yields three clusters.\n",
        "\n",
        "This visualization aids in determining the optimal number of clusters by highlighting significant gaps between merges, where large vertical gaps indicate well-separated clusters."
      ],
      "metadata": {
        "id": "aFZ2NA9JHMws"
      }
    },
    {
      "cell_type": "markdown",
      "source": [
        "###Identify User Patterns Using DBSCAN Clustering\n",
        "What is DBSCAN?\n",
        "\n",
        "DBSCAN (Density-Based Spatial Clustering of Applications with Noise) is a clustering algorithm that groups points based on their proximity, using a distance metric, and identifies low-density points as noise (outliers). Unlike KMeans, DBSCAN detects clusters of arbitrary shapes and marks outliers as noise."
      ],
      "metadata": {
        "id": "I1XyigzYHOqq"
      }
    },
    {
      "cell_type": "code",
      "source": [
        "db = DBSCAN(eps=1.5,min_samples=5)\n",
        "db_labels = db.fit_predict(X_scaled)"
      ],
      "metadata": {
        "id": "TiUdYMYOGxRG"
      },
      "execution_count": null,
      "outputs": []
    },
    {
      "cell_type": "markdown",
      "source": [
        "###Apply DBSCAN Clustering to Scaled Data\n",
        "DBSCAN clustering is performed on the scaled data, grouping points based on density rather than shape or distance from centroids.\n",
        "\n",
        "Output: db_labels contains cluster assignments, with -1 indicating outliers."
      ],
      "metadata": {
        "id": "BAPD-4nrH0X6"
      }
    },
    {
      "cell_type": "code",
      "source": [
        "n_clusters = len(set(db_labels)) - (1 if -1 in db_labels else 0)\n",
        "print(\"Number of clusters formed by DBSCAN:\", n_clusters)"
      ],
      "metadata": {
        "colab": {
          "base_uri": "https://localhost:8080/"
        },
        "id": "wa73pK8pHQzF",
        "outputId": "2f236ef4-f036-4642-c96c-705b5feecfe3"
      },
      "execution_count": null,
      "outputs": [
        {
          "output_type": "stream",
          "name": "stdout",
          "text": [
            "Number of clusters formed by DBSCAN: 1\n"
          ]
        }
      ]
    },
    {
      "cell_type": "code",
      "source": [
        "print(\"Unique labels:\", np.unique(db_labels))"
      ],
      "metadata": {
        "colab": {
          "base_uri": "https://localhost:8080/"
        },
        "id": "XJBFxhLdH8MK",
        "outputId": "c8d7d87f-2da3-428c-e888-a33d20e8eb32"
      },
      "execution_count": null,
      "outputs": [
        {
          "output_type": "stream",
          "name": "stdout",
          "text": [
            "Unique labels: [-1  0]\n"
          ]
        }
      ]
    },
    {
      "cell_type": "code",
      "source": [
        "from collections import Counter\n",
        "label_counts = Counter(db_labels)\n",
        "print(\"Label Counts:\", label_counts)"
      ],
      "metadata": {
        "colab": {
          "base_uri": "https://localhost:8080/"
        },
        "id": "EnZZ-fWQH26I",
        "outputId": "d83df6bd-fb3d-4827-cd80-42111ae109a3"
      },
      "execution_count": null,
      "outputs": [
        {
          "output_type": "stream",
          "name": "stdout",
          "text": [
            "Label Counts: Counter({np.int64(0): 456, np.int64(-1): 44})\n"
          ]
        }
      ]
    },
    {
      "cell_type": "code",
      "source": [
        "# Count outliers (label = -1)\n",
        "n_outliers = list(db_labels).count(-1)\n",
        "print(\"Number of outliers (noise points):\", n_outliers)"
      ],
      "metadata": {
        "colab": {
          "base_uri": "https://localhost:8080/"
        },
        "id": "rfecwTPXH_W-",
        "outputId": "4d97686f-e7b4-41b2-c8e9-14f7cb59e01d"
      },
      "execution_count": null,
      "outputs": [
        {
          "output_type": "stream",
          "name": "stdout",
          "text": [
            "Number of outliers (noise points): 44\n"
          ]
        }
      ]
    },
    {
      "cell_type": "markdown",
      "source": [
        "###Display DBSCAN Clustering Results with a Scatter Plot\n",
        "The DBSCAN clustering outcomes are visualized in a 2D scatter plot using PCA components. Each point is colored according to its cluster label, with noise points (not assigned to any cluster) typically displayed in a distinct color, such as gray or black."
      ],
      "metadata": {
        "id": "FimvFbUvIJJE"
      }
    },
    {
      "cell_type": "code",
      "source": [
        "plt.figure(figsize=(5,3))\n",
        "sns.scatterplot(x=x_pca[:,1],y=x_pca[:,0],hue=db_labels,palette=\"viridis\")\n",
        "plt.title(\"DBSCAN\")\n",
        "plt.show()"
      ],
      "metadata": {
        "colab": {
          "base_uri": "https://localhost:8080/",
          "height": 314
        },
        "id": "qqnQRCyKIBbQ",
        "outputId": "04b9ea80-7b01-46b4-ea2e-985eda89f28b"
      },
      "execution_count": null,
      "outputs": [
        {
          "output_type": "display_data",
          "data": {
            "text/plain": [
              "<Figure size 500x300 with 1 Axes>"
            ],
            "image/png": "[encoded data removed]"
          },
          "metadata": {}
        }
      ]
    },
    {
      "cell_type": "markdown",
      "source": [
        "###Visualizing DBSCAN Clustering Results on PCA-Reduced Data\n",
        "The scatter plot displays the results of DBSCAN clustering on PCA-reduced data (PC1, PC2). Each point represents a user, with yellow points (label = 0) forming the single cluster identified by DBSCAN, and purple points (label = -1) indicating noise points (outliers) that failed to meet the density criteria.\n",
        "\n",
        "DBSCAN clusters data based on density, independent of shape or size. It requires a minimum number of points (min_samples=5) within a specified radius (eps=1.5) to form a cluster. Here, only one dense region was detected, with 44 users marked as outliers, scattered across the plot.\n",
        "\n",
        "This outcome suggests the data lacks multiple dense, well-separated regions under the current parameters. To enhance clustering, consider adjusting eps and min_samples or applying DBSCAN to a different feature space or higher-dimensional projection."
      ],
      "metadata": {
        "id": "0nPtZaUpIP4x"
      }
    },
    {
      "cell_type": "markdown",
      "source": [
        "###Final Conclusion\n",
        "This project effectively utilized unsupervised machine learning techniques to segment users of a food delivery application based on their behavioral and preference data. The process involved data cleaning, encoding categorical features, and standardizing numerical values. Principal Component Analysis (PCA) was applied to reduce dataset dimensionality, facilitating clear visualizations and enhancing clustering performance.\n",
        "\n",
        "Several clustering algorithms were explored, including KMeans, Agglomerative Clustering, and DBSCAN, each uncovering distinct data patterns. KMeans efficiently partitioned users into three distinct groups based on similarities. Agglomerative Clustering provided insights into hierarchical user grouping, with the dendrogram offering a detailed view of the merging process. DBSCAN identified arbitrarily shaped clusters and effectively detected outlier users who did not align with the main groups.\n",
        "\n",
        "In summary, the clustering analysis revealed diverse user behaviors and preferences within the food delivery service, successfully captured and grouped through unsupervised learning techniques."
      ],
      "metadata": {
        "id": "w-l9D0JsIPxI"
      }
    }
  ]
}